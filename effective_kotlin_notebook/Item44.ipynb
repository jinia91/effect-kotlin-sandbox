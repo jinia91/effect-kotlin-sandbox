{
 "cells": [
  {
   "cell_type": "markdown",
   "source": [
    "# Item 44. 멤버 확장 함수를 사용을 피하라\n",
    "\n",
    "## 확장함수는 어디든 정의 가능하다\n",
    "- 기본적으로 어디든 정의가 가능\n",
    "- 리시버 클래스 멤버확장함수로 정의가능\n",
    "- 인터페이스 내부에도 가능\n",
    "- 타 클래스 멤버확장함수에도 정의가능\n",
    "- 최상위 수준 함수로도 정의가능\n",
    "\n",
    "## 확장함수는 톱레벨에 두어라\n",
    "\n",
    "- 만약 가시성이 문제라면 가시성 제한을 해라\n",
    "- 톱레벨에 두면 메서드 참조를 사용가능하다\n",
    "- A멤버 클래스의 확장함수를 특정 클래스(B)의 멤버메서드에 정의하면 B의 멤버변수들에 접근이 가능해져 코드가 어색해지고 복잡해진다\n",
    "- 암묵적 접근시엔 더 혼동을 가져올 수 있다.\n",
    "\n",
    "## 실무에서 과연 위의 내용이 맞을까?\n",
    "- 위의 논리중 가시성은 동의\n",
    "- 하지만 멤버 메서드 정의시 멤버 변수에 접근하는 부분은 오히려 이것이 의도된 경우일떄가 더 많다. \n",
    "- 즉 멤버 private 메서드처럼 쓰면서 가독성을 위해 확장함수로 정의했을 뿐인 셈\n",
    "- 위의 논리는 확장함수를 클래스의 메서드로서 바라보는 관점이지만, 코드상의 표현은 그럴지언정 이미 확장함수는 클래스 외부에 정의되는 순간 응집도를 잃는 코드다\n",
    "- 이를 정말 멤버메서드와 동일한 수준으로 생각해야할까?\n",
    "- 나는 개인적으로 순수하게 확장함수를 가독성 측면으로만 사용하는 신텍스 슈가로 생각하기때문에, 정의된 클래스의 멤버 함수로 바라보는게 더 맞다고 생각한다.\n",
    "- 추가로 인텔리제이 사용시 외부에 확장함수를 정의하면 파일 이동시 해당 함수때문에 제대로 마이그레이션이 되지않는 문제도 존재한다! 굉장히 불편함"
   ],
   "metadata": {
    "collapsed": false
   }
  },
  {
   "cell_type": "code",
   "outputs": [],
   "source": [],
   "metadata": {
    "collapsed": false
   }
  }
 ],
 "metadata": {
  "kernelspec": {
   "display_name": "Kotlin",
   "language": "kotlin",
   "name": "kotlin"
  },
  "language_info": {
   "name": "kotlin",
   "version": "1.8.20",
   "mimetype": "text/x-kotlin",
   "file_extension": ".kt",
   "pygments_lexer": "kotlin",
   "codemirror_mode": "text/x-kotlin",
   "nbconvert_exporter": ""
  },
  "ktnbPluginMetadata": {
   "projectLibraries": []
  }
 },
 "nbformat": 4,
 "nbformat_minor": 0
}
