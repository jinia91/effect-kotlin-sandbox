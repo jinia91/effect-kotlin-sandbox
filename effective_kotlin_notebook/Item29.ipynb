{
 "cells": [
  {
   "cell_type": "markdown",
   "source": [
    "# Item 29. 외부 API를 랩핑하여 사용하라"
   ],
   "metadata": {
    "collapsed": false
   }
  },
  {
   "cell_type": "markdown",
   "source": [
    "## 외부 라이브러리를 래핑할때 장점\n",
    "\n",
    "- 문제가 있다면 래퍼만 변경하면 되므로, API 변경에 쉽게 대응 가능\n",
    "- 프로젝트의 스타일에 맞춰서 API의 형태를 조정할 수 있음\n",
    "- 특정 라이브러리에서 문제가 발생하면, 래퍼를 수정해서 다른 라이브러리를 사용하도록 코드를 쉽게 변경할 수 있음\n",
    "- 수정과 추가가 쉬움\n",
    "\n",
    "## 단점\n",
    "\n",
    "- 래퍼 정의 필요\n",
    "- 구조 파악의 어려움\n",
    "- 매핑이 필요\n",
    "\n",
    "## 실무에서\n",
    "\n",
    "- 어댑터 패턴이나 Infra 구현체를 사용하여 외부 API를 랩핑해서 쓰는편\n",
    "- 하지만, 스프링이나 JPA의 경우 그 안정성이 어느정도 보장되었는데 굳이 필요할까?"
   ],
   "metadata": {
    "collapsed": false
   }
  },
  {
   "cell_type": "markdown",
   "source": [],
   "metadata": {
    "collapsed": false
   }
  }
 ],
 "metadata": {
  "kernelspec": {
   "display_name": "Kotlin",
   "language": "kotlin",
   "name": "kotlin"
  },
  "language_info": {
   "name": "kotlin",
   "version": "1.8.20",
   "mimetype": "text/x-kotlin",
   "file_extension": ".kt",
   "pygments_lexer": "kotlin",
   "codemirror_mode": "text/x-kotlin",
   "nbconvert_exporter": ""
  },
  "ktnbPluginMetadata": {
   "projectLibraries": []
  }
 },
 "nbformat": 4,
 "nbformat_minor": 0
}
