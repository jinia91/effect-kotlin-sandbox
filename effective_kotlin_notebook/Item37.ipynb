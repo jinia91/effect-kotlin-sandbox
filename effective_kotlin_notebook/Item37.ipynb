{
 "cells": [
  {
   "cell_type": "markdown",
   "source": [
    "# Item 37. 데이터 집합 표현에 data 한정자를 사용하라\n",
    "\n",
    "## data class 의 철학\n",
    "\n",
    "- 손쉬운 데이터 홀더 \n",
    "- 실용성에 초점을 맞춤\n",
    "- 소프트웨어공학, OOP에서 말하는 엄밀한 의미의 value object를 만들기 위한 목적이 아님\n",
    "- 위의 관점에는 오히려 Java Record 가 더 적합함\n",
    "\n",
    "## record vs data class\n",
    "- 불변성 : data class 는 var를 허용함\n",
    "- 상속 : data class 는 상속받는것을 허용, record는 불가능\n",
    "- copy() : data class는 copy() 메서드를 제공함, record는 제공하지 않음"
   ],
   "metadata": {
    "collapsed": false
   }
  },
  {
   "cell_type": "markdown",
   "source": [
    "## data class 사용시 자동 생성 메서드들 \n",
    "\n",
    "- toString()\n",
    "- equals()\n",
    "- hashCode()\n",
    "- copy()\n",
    "- componentN() 함수들\n",
    "\n",
    "## data class 의 주의점\n",
    "\n",
    "### 1. copy 강제화 문제\n",
    "\n",
    "- data class는 copy() 메서드를 제공하지만, 이를 강제할 필요는 없었음\n",
    "- 만약 생성방법을 제한하고 싶더라도 copy() 메서드가 존재하기때문에 완벽하게 생성방법을 제한할 방법이 없다\n"
   ],
   "metadata": {
    "collapsed": false
   }
  },
  {
   "cell_type": "code",
   "outputs": [],
   "source": [
    "data class Person private constructor(val name: String, val age: Int) {\n",
    "    companion object {\n",
    "        fun create(name: String, age: Int): Person {\n",
    "            return Person(name, age)\n",
    "        }\n",
    "    }\n",
    "}\n",
    "\n",
    "val person = Person.create(\"name\", 10)\n",
    "println(person)\n",
    "val person2 = person.copy() //  막을 방법이 없다...."
   ],
   "metadata": {
    "collapsed": false
   }
  },
  {
   "cell_type": "markdown",
   "source": [
    "#### 해결방법\n",
    "  -  implementation(\"dev.ahmedmourad.nocopy:nocopy-gradle-plugin:1.5.0\")\n",
    "\n",
    "noCopy 플러그인을 통해 가능은하다\n",
    "\n",
    "### 2. var와 hashCode() 정의 문제\n",
    "\n",
    "- data class는 var를 허용하기 때문에 정말 제대로된 value object를 의도한다면 hashCode()를 재정의해야할 필요가 있을 수 있음\n",
    "- set에 넣을때, hashCode()가 변경되면 set에서 찾을 수 없게 될 수 있기 때문\n"
   ],
   "metadata": {
    "collapsed": false
   }
  },
  {
   "cell_type": "markdown",
   "source": [
    "## 소결\n",
    "\n",
    "- 단순 데이터 홀더, 값 객체로서 data class는 괜찮은 가치를 제공해준다.\n",
    "- 하지만 몇가지 문제점들이 있기떄문에, 사용할때 주의하거나 더 엄격한 값객체를 정의하는것도 고려해보자."
   ],
   "metadata": {
    "collapsed": false
   }
  },
  {
   "cell_type": "markdown",
   "source": [],
   "metadata": {
    "collapsed": false
   }
  },
  {
   "cell_type": "markdown",
   "source": [],
   "metadata": {
    "collapsed": false
   }
  },
  {
   "cell_type": "code",
   "outputs": [],
   "source": [],
   "metadata": {
    "collapsed": false
   }
  },
  {
   "cell_type": "markdown",
   "source": [],
   "metadata": {
    "collapsed": false
   }
  },
  {
   "cell_type": "markdown",
   "source": [],
   "metadata": {
    "collapsed": false
   }
  },
  {
   "cell_type": "markdown",
   "source": [],
   "metadata": {
    "collapsed": false
   }
  }
 ],
 "metadata": {
  "kernelspec": {
   "display_name": "Kotlin",
   "language": "kotlin",
   "name": "kotlin"
  },
  "language_info": {
   "name": "kotlin",
   "version": "1.8.20",
   "mimetype": "text/x-kotlin",
   "file_extension": ".kt",
   "pygments_lexer": "kotlin",
   "codemirror_mode": "text/x-kotlin",
   "nbconvert_exporter": ""
  },
  "ktnbPluginMetadata": {
   "projectLibraries": []
  }
 },
 "nbformat": 4,
 "nbformat_minor": 0
}
