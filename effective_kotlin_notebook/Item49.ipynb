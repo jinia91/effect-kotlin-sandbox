{
 "cells": [
  {
   "cell_type": "markdown",
   "source": [
    "# Item 49. 하나 이상의 처리단계를 가진 경우에는 시퀸스를  사용하라\n",
    "\n",
    "## 시퀸스가 일반 컬렉션 처리에 비해 갖는 장점\n",
    "\n",
    "- 자연스러운 처리 순서 유지\n",
    "- 최소한의 연산\n",
    "- 무한 시퀸스 형태로 사용가능\n",
    "- 각각 단계에서 컬렉션생성하지 않음\n",
    "\n",
    "## 순서의 중요성\n",
    "- 컬렉션 처리의 경우 데이터 청크단위로 작업하지만, 시퀸스는 요소 하나 하나 단위로 작업한다.\n",
    "- Step by Step order(eager order) vs element by element order(lazy order)\n",
    "\n",
    "- 책은 이게 더 자연스러운 처리라고하는데... 납득할수 없다. 그냥 작업의 성격에 따라 다르지 않을까?\n",
    "\n",
    "\n",
    "## 최소연산\n",
    "\n",
    "https://kotlinlang.org/docs/images/list-processing.png\n",
    "\n",
    "https://kotlinlang.org/docs/images/sequence-processing.png\n",
    "\n",
    "- 위의 연산을 보면 최종적으로 4개의 요소만 추출해야하는데 기존 컬렉션 처리로는 eager evaluatioin이므로 모든 태스크를 다 처리한 후 4개를 추출하지만 시퀸스의 경우 lazy evaluation이므로 4개가 되는 시점에서 이후 요소에 연산을 수행하지 않아도 된다\n",
    "\n",
    "- 이것도 사실 순서의 중요성처럼 작업의 성격에 따라 해당될수도 안될수도 있는 부분이라 완벽하게 공감되지는 않는다.\n",
    "- 이런 케이스에서는 시퀸스가 좋을수 있다...정도\n",
    "\n",
    "## 무한시퀸스\n",
    "\n",
    "- 시퀸스는 최종 추출 갯수를 지정할 수 있으므로 반대로 시퀸스 자체는 무한으로 정의하더라도 동작한다.\n",
    "- 표본집단을 컬렉션으로 만들경우 필요한 만큼 추출하기 어렵지만 시퀸스는 이러한 성격의 작업을 처리하기 쉽다\n",
    "\n",
    "## 각각의 스텝에 컬렉션을 만들지 않는다\n",
    "\n",
    "- 가장 큰 장점중 하나로 표준 컬렉션처리는 매 연산마다 새로운 컬렉션을 만들지만 시퀸스는 최종적인 연산에 한번만 컬렉션을 만들기때문에 공간복잡도가 훨씬 낮아진다.\n",
    "\n",
    "![uploaded image](https://github.com/jinia91/blogBackUp/blob/main/img/246481499688992?raw=true)\n",
    "\n",
    "- 만약 컬렉션 데이터가 1.5gb인데 중간연산을 3번이상한다면 이미 메모리가 5gb 이상 필요할 수 있다.\n",
    "- 성능과 속도면에서 가장 압도적인 차이를 보여줄 수 있는 부분\n",
    "\n",
    "## 시퀸스가 빠르지 않는 케이스\n",
    "\n",
    "- sorted의 경우 컬렉션이 더 빠름. 정렬이 필요하다면 최종 연산 후 sorted를 하는게 더 바람직하다.\n",
    "- 무한시퀸스의 경우 sorted를 적용하면 무한반복에 빠지는 버그도 있음\n",
    "\n",
    "## 자바 스트림과 비교\n",
    "- 자바 스트림도 lazy하게 작동\n",
    "- 시퀸스 api가 좀더 유창하다\n",
    "- 자바 스트림은 병렬 함수 사용이 가능해서 퍼포먼스가 더 좋은편\n",
    "- 병렬연산이 필요하면 stream, 그렇지 않다면 시퀸스를 고려하자\n"
   ],
   "metadata": {
    "collapsed": false
   }
  },
  {
   "cell_type": "code",
   "outputs": [],
   "source": [],
   "metadata": {
    "collapsed": false
   },
   "execution_count": null
  },
  {
   "cell_type": "markdown",
   "source": [],
   "metadata": {
    "collapsed": false
   }
  },
  {
   "cell_type": "code",
   "outputs": [],
   "source": [],
   "metadata": {
    "collapsed": false
   }
  },
  {
   "cell_type": "markdown",
   "source": [],
   "metadata": {
    "collapsed": false
   }
  },
  {
   "cell_type": "markdown",
   "source": [],
   "metadata": {
    "collapsed": false
   }
  },
  {
   "cell_type": "markdown",
   "source": [],
   "metadata": {
    "collapsed": false
   }
  }
 ],
 "metadata": {
  "kernelspec": {
   "display_name": "Kotlin",
   "language": "kotlin",
   "name": "kotlin"
  },
  "language_info": {
   "name": "kotlin",
   "version": "1.8.20",
   "mimetype": "text/x-kotlin",
   "file_extension": ".kt",
   "pygments_lexer": "kotlin",
   "codemirror_mode": "text/x-kotlin",
   "nbconvert_exporter": ""
  },
  "ktnbPluginMetadata": {
   "projectLibraries": []
  }
 },
 "nbformat": 4,
 "nbformat_minor": 0
}
