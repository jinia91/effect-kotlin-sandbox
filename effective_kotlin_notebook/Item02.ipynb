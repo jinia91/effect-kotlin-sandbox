{
 "cells": [
  {
   "cell_type": "markdown",
   "source": [
    "# Item 02. 변수의 스코프를 최소화해라"
   ],
   "metadata": {
    "collapsed": false
   }
  },
  {
   "cell_type": "markdown",
   "source": [
    "## (1) 스코프는 좁게\n",
    "\n",
    "- 프로퍼티보다는 지역변수\n",
    "- 반복문 내부에서만 변수가 사용된다면, 반복문 내부에 선언\n",
    "- 이유는 유지보수때문!"
   ],
   "metadata": {
    "collapsed": false
   }
  },
  {
   "cell_type": "code",
   "execution_count": 0,
   "outputs": [],
   "source": [
    "// BAD!\n",
    "val users : Array<String> = arrayOf(\"1번 유저\", \"2번유저\", \"3번유저\")\n",
    "var user : String = \"\"\n",
    "for(i in users.indices){\n",
    "    user = users[i]\n",
    "    println(\"user[$i]는 $user\")\n",
    "}\n",
    "\n",
    "// GOOD\n",
    "val users2 : Array<String> = arrayOf(\"1번 유저\", \"2번유저\", \"3번유저\")\n",
    "for((i, user2) in users2.withIndex()){\n",
    "    println(\"user[$i]는 $user2\")\n",
    "}"
   ],
   "metadata": {
    "collapsed": false,
    "ExecuteTime": {
     "start_time": "2023-06-04T10:56:50.082762Z",
     "end_time": "2023-06-04T10:56:50.393123Z"
    }
   }
  },
  {
   "cell_type": "markdown",
   "source": [
    "## (2) 식(expression)과 조건분해할당(destruction declaration)을 적극적으로사용하자\n",
    "\n",
    "- 코틀린의강점은 조건문(if else, when)이나 try catch문등이 식으로도 표현된다는점!\n",
    "- 또한 조건분해할당이 가능하므로 변수선언을 좀더 간결하게 하도록 하자!"
   ],
   "metadata": {
    "collapsed": false
   }
  },
  {
   "cell_type": "code",
   "execution_count": null,
   "outputs": [],
   "source": [
    "\n",
    "// 이렇게 하면 가독성도 좋고 코드 라인도 짧음!\n",
    "fun updateWeather(degree : Int) {\n",
    "    val (description, color) = when {\n",
    "        degree < 5 -> \"cold\" to \"blue\"\n",
    "        degree > 25 -> \"hot\" to \"red\"\n",
    "        else -> \"normal\" to \"yellow\"\n",
    "    }\n",
    "}"
   ],
   "metadata": {
    "collapsed": false
   }
  },
  {
   "cell_type": "markdown",
   "source": [
    "- 에라토테네스의 체를 시퀸스로 구현하며 잘못된 변수 스코프 지정 확인해보기"
   ],
   "metadata": {
    "collapsed": false
   }
  },
  {
   "cell_type": "code",
   "execution_count": 9,
   "outputs": [
    {
     "name": "stdout",
     "output_type": "stream",
     "text": [
      "[2, 3, 5, 7, 11, 13, 17, 19, 23, 29, 31, 37, 41, 43, 47, 53, 59, 61, 67, 71, 73, 79, 83, 89, 97]\n",
      "[2, 3, 5, 7, 11, 13, 17, 19, 23, 29]\n",
      "[2, 3, 5, 6, 7, 8, 9, 10, 11, 12]\n"
     ]
    }
   ],
   "source": [
    "// [1] 최초 구현\n",
    "\n",
    "var numbers = (2..100).toList()\n",
    "val primes = mutableListOf<Int>()\n",
    "\n",
    "while (numbers.isNotEmpty()) {\n",
    "    val first = numbers.first()\n",
    "    primes.add(first)\n",
    "    numbers = numbers.filter { it % first != 0 }\n",
    "}\n",
    "\n",
    "println(primes)\n",
    "\n",
    "\n",
    "// [2] 시퀸스로 확장해보기\n",
    "val sPrimes = sequence {\n",
    "    var numbers = generateSequence(2) { it + 1 } // 2부터 시작하는 무한 숫자 시퀸스 할당\n",
    "\n",
    "    while (true) {\n",
    "        val prime = numbers.first() // 무한 시퀸스에서 첫번째 숫자\n",
    "        yield(prime) // 해당 숫자 선택(시퀸스 결과값에 포함)\n",
    "        numbers = numbers.drop(1) // 해당 숫자 제거하고\n",
    "            .filter { it % prime != 0 } // 제거된 무한숫자 numbers에서 해당 숫자로 나뉠때 나누어 떨어지지 않는 숫자만 추출해서 무한숫자 시퀸스에 재할당\n",
    "    }\n",
    "}\n",
    "println(sPrimes.take(10).toList()) // yield 로 산출되는 결과값이 10개가 나올때까지 시퀸스 실행\n",
    "\n",
    "// [3] 잘못된 시퀸스로 할당\n",
    "val sPrimes2 = sequence {\n",
    "    var numbers = generateSequence(2) { it + 1 } // 2부터 시작하는 무한 숫자 시퀸스 할당\n",
    "\n",
    "    var prime : Int // val prime 계속할당하는게 낭비같은데? 한번할당하고 재사용해보자! <----\n",
    "    while (true) {\n",
    "        prime = numbers.first() // 무한 시퀸스에서 첫번째 숫자\n",
    "        yield(prime) // 해당 숫자 선택(시퀸스 결과값에 포함)\n",
    "        numbers = numbers.drop(1) // 해당 숫자 제거하고\n",
    "            .filter { it % prime != 0 } // 제거된 무한숫자 numbers에서 해당 숫자로 나뉠때 나누어 떨어지지 않는 숫자만 추출해서 무한숫자 시퀸스에 재할당\n",
    "    }\n",
    "}\n",
    "println(sPrimes2.take(10).toList()) // yield 로 산출되는 결과값이 10개가 나올때까지 시퀸스 실행"
   ],
   "metadata": {
    "collapsed": false,
    "ExecuteTime": {
     "start_time": "2023-06-04T11:41:42.971819Z",
     "end_time": "2023-06-04T11:41:43.124729Z"
    }
   }
  },
  {
   "cell_type": "markdown",
   "source": [
    "시퀸스는 자바 stream과 비슷하게 지연 연산을 하므로, 값을 실제로 호출할때 연산하게된다.\n",
    "\n",
    "![sequence](https://velog.velcdn.com/images/hope0206/post/0e808a98-5092-4cfe-9aa9-53a3f702ffe3/image.png)\n"
   ],
   "metadata": {
    "collapsed": false
   }
  },
  {
   "cell_type": "markdown",
   "source": [],
   "metadata": {
    "collapsed": false
   }
  },
  {
   "cell_type": "markdown",
   "source": [],
   "metadata": {
    "collapsed": false
   }
  }
 ],
 "metadata": {
  "kernelspec": {
   "display_name": "Kotlin",
   "language": "kotlin",
   "name": "kotlin"
  },
  "language_info": {
   "name": "kotlin",
   "version": "1.8.0",
   "mimetype": "text/x-kotlin",
   "file_extension": ".kt",
   "pygments_lexer": "kotlin",
   "codemirror_mode": "text/x-kotlin",
   "nbconvert_exporter": ""
  }
 },
 "nbformat": 4,
 "nbformat_minor": 0
}
