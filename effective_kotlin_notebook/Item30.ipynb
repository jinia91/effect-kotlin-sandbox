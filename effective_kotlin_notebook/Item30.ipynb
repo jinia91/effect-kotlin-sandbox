{
 "cells": [
  {
   "cell_type": "markdown",
   "source": [
    "# Item 30. 요소의 가시성을 최소화하라"
   ],
   "metadata": {
    "collapsed": false
   }
  },
  {
   "cell_type": "markdown",
   "source": [
    "## 가시성을 최소화할때 장점\n",
    "\n",
    "- 학습 난이도가 낮아짐\n",
    "- 코드 이해가 쉬워짐\n",
    "- 공개 api보단 비공개 api가 수정이 용이"
   ],
   "metadata": {
    "collapsed": false
   }
  },
  {
   "cell_type": "markdown",
   "source": [],
   "metadata": {
    "collapsed": false
   }
  }
 ],
 "metadata": {
  "kernelspec": {
   "display_name": "Kotlin",
   "language": "kotlin",
   "name": "kotlin"
  },
  "language_info": {
   "name": "kotlin",
   "version": "1.8.20",
   "mimetype": "text/x-kotlin",
   "file_extension": ".kt",
   "pygments_lexer": "kotlin",
   "codemirror_mode": "text/x-kotlin",
   "nbconvert_exporter": ""
  },
  "ktnbPluginMetadata": {
   "projectLibraries": []
  }
 },
 "nbformat": 4,
 "nbformat_minor": 0
}
