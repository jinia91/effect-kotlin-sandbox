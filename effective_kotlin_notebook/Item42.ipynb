{
 "cells": [
  {
   "cell_type": "markdown",
   "source": [
    "# Item 42. compareTo의 규약을 지켜라\n",
    "- Comparable 인터페이스는 compareTo 메서드를 정의한다. Object의 메서드가 아니다.\n",
    "\n",
    "## compareTo 규약\n",
    "- 비대칭적 동작 : a >=b 이고 b >= a 라면 a == b 여야 한다. 즉 비교와 동등성 비교에 어떤 관계가 있어야하며, 서로 일관성이 있어야한다\n",
    "- 연속적 동작(추이성) : a >= b 이고 b >= c 라면 a >= c 여야 한다. 즉 비교가 연속적이어야 한다.\n",
    "- 코넥스적 동작 : 두 요소는 어떤 확실한 관계(a>=b 이든 b>=a 이든)가 있어야 한다.\n",
    "\n"
   ],
   "metadata": {
    "collapsed": false
   }
  },
  {
   "cell_type": "code",
   "outputs": [
    {
     "name": "stdout",
     "output_type": "stream",
     "text": [
      "true\n",
      "-1\n"
     ]
    }
   ],
   "source": [
    "data class NonComparable(val value: Int, val value2: Int)\n",
    "\n",
    "val x = NonComparable(1, 0)\n",
    "val y = NonComparable(2, 0)\n",
    "//println(x < y)\n",
    "//x.compareTo(y)\n",
    "\n",
    "data class ComparableData(val value: Int): Comparable<ComparableData> {\n",
    "    override fun compareTo(other: ComparableData): Int {\n",
    "        return value.compareTo(other.value)\n",
    "    }\n",
    "}\n",
    "\n",
    "val x2 = ComparableData(1)\n",
    "val y2 = ComparableData(2)\n",
    "println(x2 < y2)\n",
    "println(x2.compareTo(y2))"
   ],
   "metadata": {
    "collapsed": false,
    "ExecuteTime": {
     "end_time": "2024-04-12T13:11:44.274744Z",
     "start_time": "2024-04-12T13:11:44.170178Z"
    }
   },
   "execution_count": 6
  },
  {
   "cell_type": "markdown",
   "source": [
    "## 코틀린에서 compareTo를 따로 정의해야할까?\n",
    "- 코틀린에서는 sortedBy 등의 메서드를 사용할 때, Comparable 인터페이스를 구현하지 않고 람다로 비교함수를 넘길 수 있다.\n"
   ],
   "metadata": {
    "collapsed": false
   }
  },
  {
   "cell_type": "code",
   "outputs": [
    {
     "name": "stdout",
     "output_type": "stream",
     "text": [
      "[NonComparable(value=1, value2=2), NonComparable(value=2, value2=3), NonComparable(value=3, value2=5), NonComparable(value=3, value2=3)]\n",
      "[NonComparable(value=1, value2=2), NonComparable(value=2, value2=3), NonComparable(value=3, value2=3), NonComparable(value=3, value2=5)]\n"
     ]
    }
   ],
   "source": [
    "data class NonComparable(val value: Int, val value2: Int)\n",
    "\n",
    "val list = listOf(NonComparable(3, 5), NonComparable(2, 3), NonComparable(1, 2), NonComparable(3, 3))\n",
    "\n",
    "println(list.sortedBy { it.value }) // 단일 기준이든\n",
    "println(list.sortedWith(compareBy({it.value}, {it.value2}))) // 다중 기준이든"
   ],
   "metadata": {
    "collapsed": false,
    "ExecuteTime": {
     "end_time": "2024-04-12T13:16:03.035512Z",
     "start_time": "2024-04-12T13:16:02.939117Z"
    }
   },
   "execution_count": 16
  },
  {
   "cell_type": "markdown",
   "source": [
    "- 만약 자연스럽지 않은 특정 비즈니스 기준을사용한다면 Comparator를 사용하는 것이 좋다."
   ],
   "metadata": {
    "collapsed": false
   }
  },
  {
   "cell_type": "code",
   "outputs": [
    {
     "name": "stdout",
     "output_type": "stream",
     "text": [
      "[User(name=Alice, age=31), User(name=Bob, age=29)]\n",
      "[User(name=Bob, age=29), User(name=Alice, age=31)]\n"
     ]
    }
   ],
   "source": [
    "\n",
    "data class User(val name: String, val age: Int) {\n",
    "    companion object {\n",
    "        val NameComparator = Comparator<User> { u1, u2 -> u1.name.compareTo(u2.name) }\n",
    "        val AgeComparator = Comparator<User> { u1, u2 -> u1.age.compareTo(u2.age) }\n",
    "    }\n",
    "}\n",
    "\n",
    "val users = listOf(User(\"Bob\", 29), User(\"Alice\", 31))\n",
    "\n",
    "println(users.sortedWith(User.NameComparator))\n",
    "println(users.sortedWith(User.AgeComparator))"
   ],
   "metadata": {
    "collapsed": false,
    "ExecuteTime": {
     "end_time": "2024-04-12T13:18:15.155972Z",
     "start_time": "2024-04-12T13:18:15.062649Z"
    }
   },
   "execution_count": 20
  },
  {
   "cell_type": "markdown",
   "source": [
    "## 그럼에도 compareTo를 구현해야 하는 경우\n",
    "- 단일 프로퍼티 비교시엔 compareValues 함수를 사용해보자\n",
    "- 다중 프로퍼티 비교시엔 compareValuesBy 함수를 사용해보자\n",
    "- 정말 직접 구현한다면 다음을 기억하자\n",
    "  - 리시버와 other가 같은경우 0을 반환해야 한다.\n",
    "  - 리시버가 other보다 작은 경우 음수를 반환해야 한다.\n",
    "  - 리시버가 other보다 큰 경우 양수를 반환해야 한다. "
   ],
   "metadata": {
    "collapsed": false
   }
  },
  {
   "cell_type": "code",
   "outputs": [],
   "source": [
    "class Person(val firstName: String, val lastName: String): Comparable<Person> {\n",
    "    override fun compareTo(other: Person): Int {\n",
    "    return compareValues(this.lastName, other.lastName)\n",
    "//        return compareValuesBy(this, other, Person::lastName, Person::firstName)\n",
    "    }\n",
    "}"
   ],
   "metadata": {
    "collapsed": false
   }
  },
  {
   "cell_type": "markdown",
   "source": [],
   "metadata": {
    "collapsed": false
   }
  },
  {
   "cell_type": "markdown",
   "source": [],
   "metadata": {
    "collapsed": false
   }
  },
  {
   "cell_type": "markdown",
   "source": [],
   "metadata": {
    "collapsed": false
   }
  },
  {
   "cell_type": "markdown",
   "source": [],
   "metadata": {
    "collapsed": false
   }
  },
  {
   "cell_type": "code",
   "outputs": [],
   "source": [],
   "metadata": {
    "collapsed": false
   }
  },
  {
   "cell_type": "markdown",
   "source": [],
   "metadata": {
    "collapsed": false
   }
  }
 ],
 "metadata": {
  "kernelspec": {
   "display_name": "Kotlin",
   "language": "kotlin",
   "name": "kotlin"
  },
  "language_info": {
   "name": "kotlin",
   "version": "1.8.20",
   "mimetype": "text/x-kotlin",
   "file_extension": ".kt",
   "pygments_lexer": "kotlin",
   "codemirror_mode": "text/x-kotlin",
   "nbconvert_exporter": ""
  },
  "ktnbPluginMetadata": {
   "projectLibraries": []
  }
 },
 "nbformat": 4,
 "nbformat_minor": 0
}
