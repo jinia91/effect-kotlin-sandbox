{
 "cells": [
  {
   "cell_type": "markdown",
   "source": [
    "# Item 40. equals의 규약을 지켜라\n",
    "\n",
    "## Object, Any? "
   ],
   "metadata": {
    "collapsed": false
   }
  },
  {
   "cell_type": "code",
   "outputs": [
    {
     "name": "stdout",
     "output_type": "stream",
     "text": [
      "true\n"
     ]
    }
   ],
   "source": [
    "    val a = Any()\n",
    "    val b = Object()\n",
    "    println(a.javaClass == b.javaClass)"
   ],
   "metadata": {
    "collapsed": false,
    "ExecuteTime": {
     "end_time": "2024-04-11T13:10:09.560489Z",
     "start_time": "2024-04-11T13:10:09.483102Z"
    }
   },
   "execution_count": 2
  },
  {
   "cell_type": "markdown",
   "source": [
    "- true가 나온다.\n",
    "\n",
    "```\n",
    "    Object a = new Object();\n",
    "      Object b = new Object();\n",
    "      boolean var2 = Intrinsics.areEqual(a.getClass(), b.getClass());\n",
    "      System.out.println(var2);\n",
    "```\n",
    "\n",
    "- 자바 바이트 코드상에서 동일한 Object로 취급한다.\n",
    "- Any는 자바의 Object와 같은 역할을 한다.\n",
    "- equals, hashCode, toString 역시 코틀린에서도 재정의해야한다.\n",
    "\n",
    "## 동등성, 동일성\n",
    "> 가장 쉽게 비유하자면 화폐 만원짜리 두개는 동등한 가치지만 동일하지 않다.\n",
    "\n",
    "- 구조적 동등성 : 두 객체가 같은 값을 가지고 있는지 비교, equals기반 비교이며 코틀린에서는 == 비교연산자로 구현, 자바와는다르다! 자바는 ==이 참조 비교하고 구조적 동등성 비교 연산자가 없으며 equals로만 동작한다.\n",
    "- 참조적 동등성 : 일반적으로 동일성이라 표현하며, 두 객체가 동일한 객체인지 비교, === 연산자로 구현, 자바는 == 연산자로 구현\n",
    "\n",
    "## equals 의 기본동작\n",
    "- 기본적으로 참조적 동등성방식 ===으로 동작한다\n",
    "- 일반적으로 값객체나 데이터 홀더의 경우 값 자체가 동등한지를 비교해야하는경우가 많으며 따라서 equals를 재정의해야한다.\n",
    "- data class로 정의시 모든 프로퍼티를 가지고 동등비교 equals가 자동생성!\n",
    "\n",
    "## equals 재정의 필요한 경우\n",
    "- 기본적으로 제공되는 동작과 다른 동작을 원할때\n",
    "- 일부 프로퍼티만으로 비교해야하는 경우(감사 updated_at은 제외하고 비교)\n",
    "- data 한정자를 붙이는걸 원하지않거나 비교해야하는 프로퍼티가 기본 생성자에 없는 경우\n",
    "\n",
    "## equals 재정의시 지켜야할 규약\n",
    "- 반사성 : null이 아닌 모든 참조 값 x에 대해 x.equals(x)는 true를 반환해야한다.\n",
    "- 대칭성 : null이 아닌 모든 참조 값 x, y에 대해 x.equals(y)가 true면 y.equals(x)도 true여야한다.\n",
    "- 추이성(연속성) : null이 아닌 모든 참조 값 x, y, z에 대해 x.equals(y)가 true이고 y.equals(z)가 true면 x.equals(z)도 true여야한다.\n",
    "- 일관성 : null이 아닌 모든 참조 값 x, y에 대해 x.equals(y)를 여러번 호출해도 항상 같은 값을 반환해야한다.\n",
    "- null이 아닌 모든 참조 값 x에 대해 x.equals(null)은 false여야한다.\n",
    "- 특별한 사유로 재정의하더라도 위의 성질들은 모두 만족해야한다!\n",
    "\n",
    "### 잘못된 설계 예시 java Url\n",
    "- java.net.URL은 ip주소로 equals를 구현하였다.\n",
    "- 인터넷 연결이 끊어지면 ip주소가 변경될 수 있으므로 equals가 일관되지 않는다.\n",
    "- 네트워크 처리를 거치므로 equals 비교가 느리다.\n",
    "- 동일 ip라도 동일 컨텐츠를 보장한다고 할 수 없다.\n",
    "- java.net.URI는 equals를 재정의하여 동일한 URI인지 비교한다. 따라서 URI를 사용하는것이 좋다.\n",
    "\n",
    "## equals 재정의시 주의사항\n",
    "- 서브클래스를 열어두면서 equals를 재정의하는것은 바람직하지 않음, 조슈아 블로크도 상속을 지원하면서 완벽한 사용자 정의 equals를 만드는것은 어렵다고 말함\n",
    "- equals를 재정의할거면 final 클래스로 만들어라"
   ],
   "metadata": {
    "collapsed": false
   }
  },
  {
   "cell_type": "code",
   "outputs": [],
   "source": [],
   "metadata": {
    "collapsed": false
   }
  },
  {
   "cell_type": "markdown",
   "source": [],
   "metadata": {
    "collapsed": false
   }
  },
  {
   "cell_type": "code",
   "outputs": [
    {
     "name": "stdout",
     "output_type": "stream",
     "text": [
      "Hello!\n",
      "Hello!\n"
     ]
    }
   ],
   "source": [],
   "metadata": {
    "collapsed": false,
    "ExecuteTime": {
     "end_time": "2024-04-09T12:44:30.651566Z",
     "start_time": "2024-04-09T12:44:30.577891Z"
    }
   },
   "execution_count": 2
  },
  {
   "cell_type": "markdown",
   "source": [],
   "metadata": {
    "collapsed": false
   }
  },
  {
   "cell_type": "code",
   "outputs": [],
   "source": [],
   "metadata": {
    "collapsed": false
   }
  },
  {
   "cell_type": "markdown",
   "source": [],
   "metadata": {
    "collapsed": false
   }
  },
  {
   "cell_type": "markdown",
   "source": [],
   "metadata": {
    "collapsed": false
   }
  },
  {
   "cell_type": "markdown",
   "source": [],
   "metadata": {
    "collapsed": false
   }
  },
  {
   "cell_type": "markdown",
   "source": [],
   "metadata": {
    "collapsed": false
   }
  },
  {
   "cell_type": "code",
   "outputs": [],
   "source": [],
   "metadata": {
    "collapsed": false
   }
  },
  {
   "cell_type": "markdown",
   "source": [],
   "metadata": {
    "collapsed": false
   }
  }
 ],
 "metadata": {
  "kernelspec": {
   "display_name": "Kotlin",
   "language": "kotlin",
   "name": "kotlin"
  },
  "language_info": {
   "name": "kotlin",
   "version": "1.8.20",
   "mimetype": "text/x-kotlin",
   "file_extension": ".kt",
   "pygments_lexer": "kotlin",
   "codemirror_mode": "text/x-kotlin",
   "nbconvert_exporter": ""
  },
  "ktnbPluginMetadata": {
   "projectLibraries": []
  }
 },
 "nbformat": 4,
 "nbformat_minor": 0
}
