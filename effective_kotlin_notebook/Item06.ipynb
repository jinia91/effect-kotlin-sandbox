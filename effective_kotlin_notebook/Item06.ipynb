{
 "cells": [
  {
   "cell_type": "markdown",
   "source": [
    "# Item 06. 사용자 정의 오류보다는 표준 오류를 사용해라"
   ],
   "metadata": {
    "collapsed": false
   }
  },
  {
   "cell_type": "markdown",
   "source": [
    "표준 라이브러리의 예외만 사용해도 대부분의 상황을 커버할 수 있고, 가독성이 더 좋다고 책은 주장.\n",
    "\n",
    "하지만 같은 `IllegalArgumentException`이더라도 비즈니스 요건에 따라 다른 행동을 기대할수도 있음\n",
    "- e.g. 일부는 에러메시지만 보여주지만, 일부는 특별한 팝업이 나와야한다던지할경우가 존재하고 이때는 강타입으로 핸들링할 필요성이 존재\n",
    "- 이때 message를 enum으로 넣고 핸들링하거나 커스텀 예외를 정의하고 해당 타입으로 핸들링해야할 필요가 있다.\n",
    "- 결국 클래스, enum 어느쪽이든 타입의 정의가 필요!\n",
    "\n",
    "비즈니스 요건이 복잡한 프로덕트 환경을 고려할때 실무적으로는 책의 주장을 동의하기힘들다."
   ],
   "metadata": {
    "collapsed": false
   }
  }
 ],
 "metadata": {
  "kernelspec": {
   "display_name": "Kotlin",
   "language": "kotlin",
   "name": "kotlin"
  },
  "language_info": {
   "name": "kotlin",
   "version": "1.8.0",
   "mimetype": "text/x-kotlin",
   "file_extension": ".kt",
   "pygments_lexer": "kotlin",
   "codemirror_mode": "text/x-kotlin",
   "nbconvert_exporter": ""
  },
  "ktnbPluginMetadata": {
   "isAddProjectLibrariesToClasspath": false
  }
 },
 "nbformat": 4,
 "nbformat_minor": 0
}
