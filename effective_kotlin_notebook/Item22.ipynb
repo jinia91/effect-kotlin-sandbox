{
 "cells": [
  {
   "cell_type": "markdown",
   "source": [
    "# Item 22. 일반적인  알고리즘을 구현할 때, 제네릭을 사용해라"
   ],
   "metadata": {
    "collapsed": false
   }
  },
  {
   "cell_type": "markdown",
   "source": [
    "## 제네릭?\n",
    "\n",
    "특정 타입에 의존하지 않고 하나의 값이 여러 타입이 될수 있음을(제네릭으로 지정한) 기술에 중점을 두어 재사용성을 높이는 프로그래밍 방식\n",
    "\n",
    "- 자바에서는 1.5부터 도입\n",
    "\n",
    "\n",
    "## 제네릭을 완벽하게 이해하기 위해 알아두어야 할것들! - Deep dive\n",
    "\n",
    "### 기본\n",
    "- 타입 파라미터(매개변수) : 제네릭 타입인 파라미터\n",
    "`class Box<T>(val item: T) { /* ... */ }` 같이 표현\n",
    "\n",
    "- 타입 인수 : 실제 파라미터에 들어가는 값, 인수\n",
    "- 제네릭 클래스 : 타입 매개변수가 정의된 클래스\n",
    "- 제네릭 함수 : 타입 매개변수가 정의된 함수\n",
    "\n",
    "### Variance, Invariance, Contravariance\n",
    "\n",
    "- 통계학에서 variance는 분산, covariance는 공분산 ... 이지만 컴퓨터 공학(cs)에서는 전혀 다른 의미\n",
    "\n",
    "- 타입들간의 서브타입 슈퍼타입 계층화를 표현할때 사용한다.\n",
    "\n",
    "\n",
    "Variance : 공변\n",
    "Invariance : 불공변\n",
    "Contravariance : 반공변\n",
    "\n",
    "`공변의 의미는 A ⊂ B 일때 고차함수 T에 대해 T<A> ⊂ T<B> 로 그 관계가 유지된다면 공변이라 표현한다.`\n",
    "\n",
    "`불공변의 의미는 A ⊂ B 일때 고차함수 T에 대해 T<A> -관계가 없음- T<B> 으로 정의된 관계가 사용되 고차함수상 아무 의미를 가지지 않을때 불공변이라 표현한다`\n",
    "\n",
    "`반공변의 의미는 A ⊂ B 일때 고차함수 T에 대해 T<B> ⊂ T<A> 로 그 관계가 역전된다면 반공변이라 표현한다.`\n",
    "\n",
    "\n",
    "\n",
    "### 리스코프 치환원칙 (LSP)\n",
    "\n",
    "- SOLID 의 L\n",
    "\n",
    "정의는 아래와 같다.\n",
    "\n",
    "- 하위형에서 반환형의 공변성\n",
    "- 하위형에서 메서드 인수의 반공변성\n",
    "\n",
    "하지만 이 리스코프 치환원칙을 많은 프로그래밍 언어들은 제대로 지키지 않는다.\n",
    "\n",
    "### 자바, 코틀린에서 리스코프 치환원칙 평가해보기\n",
    "\n",
    "#### 메서드 반환 타입 - LSP 지킴"
   ],
   "metadata": {
    "collapsed": false
   }
  },
  {
   "cell_type": "code",
   "execution_count": null,
   "outputs": [],
   "source": [
    "abstract class Parent {\n",
    "    public abstract fun foo(a: Int): Number\n",
    "}\n",
    "\n",
    "class Child: Parent() {\n",
    "    override fun foo(a: Int): Int {\n",
    "        return a + 10\n",
    "    }\n",
    "}\n",
    "\n",
    "val p: Parent = Child()\n",
    "val b: Number = p.foo(10)"
   ],
   "metadata": {
    "collapsed": false
   }
  },
  {
   "cell_type": "markdown",
   "source": [
    "부모의 함수 foo 의 반환값은 Number 타입이나 오버라이딩으로 반환값을 더 낮은 타입인 Int로 변경했다.\n",
    "\n",
    "> 하위타입 **Child**의 함수 foo()의 반환타입 **Int** **⊂** 상위 타입 **Parent**의 함수 foo()의 반환타입 **Number**\n",
    "\n",
    "위의 의미는 자바, 코틀린에서 함수의 반환타입은 공변을 갖는다는 의미다.\n",
    "\n",
    "즉 리스코프 치환원칙 1항의\n",
    "- 하위형에서 반환형의 공변성\n",
    "는 만족한다.\n",
    "\n",
    "\n",
    "#### 메서드 파라미터 타입 - LSP 안지킴!"
   ],
   "metadata": {
    "collapsed": false
   }
  },
  {
   "cell_type": "code",
   "execution_count": 1,
   "outputs": [
    {
     "name": "stderr",
     "output_type": "stream",
     "text": [
      "Line_1.jupyter.kts (5:1 - 21) Class 'CovariantChild' is not abstract and does not implement abstract base class member public abstract fun foo(bar: Number): Unit defined in Line_1_jupyter.Parent\n",
      "Line_1.jupyter.kts (6:5 - 13) 'foo' overrides nothing\n",
      "Line_1.jupyter.kts (9:1 - 24) Class 'ContravriantChild' is not abstract and does not implement abstract base class member public abstract fun foo(bar: Number): Unit defined in Line_1_jupyter.Parent\n",
      "Line_1.jupyter.kts (10:5 - 13) 'foo' overrides nothing"
     ]
    }
   ],
   "source": [
    "abstract class Parent {\n",
    "    public abstract fun foo(bar: Number)\n",
    "}\n",
    "\n",
    "class CovariantChild: Parent() {\n",
    "    override fun foo(bar: Int) {} // 컴파일 에러!!! 공변 아님.\n",
    "}\n",
    "\n",
    "class ContravriantChild: Parent() {\n",
    "    override fun foo(bar: Any) {} // 컴파일 에러!!! 반공변도 아님\n",
    "}\n",
    "\n",
    "val p: Parent = ContravriantChild()\n",
    "p.foo(10)\n",
    "\n",
    "//Line_1.jupyter.kts (5:1 - 21) Class 'CovariantChild' is not abstract and does not implement abstract base class member public abstract fun foo(bar: Number): Unit defined in Line_1_jupyter.Parent\n",
    "//Line_1.jupyter.kts (6:5 - 13) 'foo' overrides nothing\n",
    "//Line_1.jupyter.kts (9:1 - 24) Class 'ContravriantChild' is not abstract and does not implement abstract base class member public abstract fun foo(bar: Number): Unit defined in Line_1_jupyter.Parent\n",
    "//Line_1.jupyter.kts (10:5 - 13) 'foo' overrides nothing"
   ],
   "metadata": {
    "collapsed": false,
    "ExecuteTime": {
     "end_time": "2023-09-03T07:52:31.978056Z",
     "start_time": "2023-09-03T07:52:31.894586Z"
    }
   }
  },
  {
   "cell_type": "markdown",
   "source": [
    "오버라이딩을 통해 하위타입 Child의 함수 foo 파라미터를 어떤걸로 변경해도(상위, 하위 둘다) 컴파일 에러가 발생한다.\n",
    "\n",
    "즉 리스코프 치환원칙의 2항\n",
    "- 하위형에서 메서드 인수의 반공변성\n",
    "\n",
    "을 지키지 않고 불공변성을 가지고 있다."
   ],
   "metadata": {
    "collapsed": false
   }
  },
  {
   "cell_type": "markdown",
   "source": [
    "\n",
    "#### 일급함수의 경우 - LSP 준수"
   ],
   "metadata": {
    "collapsed": false
   }
  },
  {
   "cell_type": "code",
   "execution_count": null,
   "outputs": [],
   "source": [
    "\n",
    "// 자식의 input이 Number, output이 Number일경우\n",
    "var sub: (Number) -> Number = { i ->\n",
    "    i\n",
    "}\n",
    "// 고차함수를 업캐스팅 해보면\n",
    "var super1: (Number) -> Any = sub // 업캐스팅 타입의 output이 Number의 상위타입이므로 공변!\n",
    "var super2: (Int) -> Number = sub // 업캐스팅 타입의 input이 Number의 하위타입이므로(Int) 반공변!\n",
    "var super3: (Int) -> Any = sub // 둘다 적용도 가능"
   ],
   "metadata": {
    "collapsed": false
   }
  },
  {
   "cell_type": "markdown",
   "source": [
    "다형성을 위한 오버로딩의 존재때문에 클래스간의 input 반공변은 안지켜졌지만\n",
    "\n",
    "일급함수의 경우는 오버로딩이 없기때문에 LSP가 준수된다.\n",
    "\n",
    "\n",
    "#### 고차함수의 경우"
   ],
   "metadata": {
    "collapsed": false
   }
  },
  {
   "cell_type": "code",
   "execution_count": null,
   "outputs": [],
   "source": [
    "// 일급함수 정의\n",
    "var sub: (Number) -> Number = { i ->\n",
    "    i\n",
    "}\n",
    "var super1: (Number) -> Any = sub\n",
    "var super2: (Int) -> Number = sub\n",
    "var super3: (Int) -> Any = sub\n",
    "var super4: (Any) -> Any = { i ->\n",
    "    i\n",
    "}\n",
    "\n",
    "\n",
    "// 고차함수로 일급함수를 다뤄보면?\n",
    "fun higher(block: (Number) -> Any) {} // input을 super1 일급함수로 정의했지만\n",
    "\n",
    "// 고차함수로 일급함수들을 사용해보면?\n",
    "higher(sub) // sub은 super1의 하위타입고 input은 반공변이므로 하위타입이 가능!\n",
    "higher(super1) // 자기자신이므로 당연히 된다\n",
    "//higher(super2) // super1과 2는 다른타입이므로 안된다\n",
    "//higher(super3) // super1과 3은 다른 타입이므로 안된다\n",
    "higher(super4) // 일급함수 (Number) -> Any 과 (Any) -> Any를 비교해보면 input이 반공변이여야하므로 Number 인풋이 더 상위타입으로 정의가능하다.\n",
    "// 즉 (Any) -> Any ⊂ (Number) -> Any 이고 super4는 super 1의 하위타입이 되므로 하위타입을 인자로 받을수 있게된다.\n",
    "\n",
    "super1 = super4 // 따라서 이렇게 업캐스팅도 됨"
   ],
   "metadata": {
    "collapsed": false
   }
  },
  {
   "cell_type": "markdown",
   "source": [
    "#### 배열 - 다형성의 문제\n",
    "\n",
    "자바는 최초 언어 설계시 타입만 존재했기때문에(제네릭이 없었으므로) 배열 설계에 많은 고민이 있었고, 일부 결점이 존재한다.\n",
    "\n",
    "일단 배열은 특정 타입을 다루어야한다.\n",
    "따라서 배열의 공통 API는 재사용성이 높을수밖에없다. 이 배열의 공통 API를 재사용하려면 상속구조를 통해 다형성으로 푸는게 가장 기본적인 접근이였고, 자바도 배열을 상위 하위 계층화된 타입으로 정의하였다."
   ],
   "metadata": {
    "collapsed": false
   }
  },
  {
   "cell_type": "code",
   "execution_count": null,
   "outputs": [],
   "source": [
    "Integer[] numbers = {1,4,2,1};\n",
    "Object[] objects = numbers; // output은 covariant니까 된다.\n",
    "objects[2] = \"B\"; // input을 하면 런타임오류. ArrayStoreException"
   ],
   "metadata": {
    "collapsed": false
   }
  },
  {
   "cell_type": "markdown",
   "source": [
    "하지만 자바는 리스코프 치환원칙을 절반만 지키는 반쪽짜리였기때문에 상위타입으로 치환 후 input의 반공변성은 지켜지지 않으므로 치환되지 않는 문제가 발생한다.\n",
    "\n",
    "이 치환불가 문제를 런타임 오류로 핸들링하였고 이는 타입 안정성의 불안을 낳았다.\n",
    "- https://en.wikipedia.org/wiki/Covariance_and_contravariance_(computer_science)#Covariant_arrays_in_Java_and_C#\n",
    "\n",
    "즉\n",
    "- 자바의 타입은 리스코프 치환원칙을 부분적으로만 따름\n",
    "- 자바의 배열은 재사용을 위해 다형성을 원했고, 계층화된 타입으로 정의되있음(Object[], Integer[])\n",
    "- 리스코프 치환원칙을 절반만 따름으로서 리턴타입의 공변(타입캐스팅)은 가능하나, 인풋 타입의 반공변은 지키지 않아 런타입 에러로 이를 방어하였고 불안정한 핸들링임\n",
    "\n"
   ],
   "metadata": {
    "collapsed": false
   }
  },
  {
   "cell_type": "markdown",
   "source": [
    "코틀린의 경우도 역시 타입은 자바 베이스(jvm 베이스)이며 리스코프 치환원칙을 부분적으로만 따른다.\n",
    "\n",
    "따라서 배열을 계층화된 타입으로 정의하면 같은 문제가 발생하는데 이를 Array<T>로 하나의 타입으로만 정의하여 해결했다.\n",
    "\n",
    "이는 사실 List와 동일한 방식인데, 제네릭이 존재하는 시점에 설계되었기때문에 가능한 방식이다.\n",
    "\n",
    "즉\n",
    "- 코틀린의 타입은 리스코프 치환원칙을 부분적으로만 따름(자바와 동일)\n",
    "- 코틀린의 배열은 하나의 타입만 사용해 재사용을 해결함\n",
    "- 타입이 하나이므로 리스코프 치환원칙을 고려할필요가 없음(불공변성)\n",
    "- 타입 불안정의 문제는 제네릭으로 해결"
   ],
   "metadata": {
    "collapsed": false
   }
  },
  {
   "cell_type": "markdown",
   "source": [
    "#### 제네릭과 리스코프 치환원칙\n",
    "\n",
    "위의 배열 내용을 정확히 이해하기 위해서는 제네릭을 보다 확실히 알아야한다.\n",
    "\n",
    "기본적으로 자바, 코틀린의 제네릭은 불공변성을 가진다.\n",
    "\n",
    "이는 리스코프 치환원칙의 두 항목\n",
    "- 하위형에서 반환형의 공변성\n",
    "- 하위형에서 메서드 인수의 반공변성\n",
    "\n",
    "이 둘을 정확히 표현하지 못하기 때문에 차라리 불공변성으로 처리하자는 의도이다."
   ],
   "metadata": {
    "collapsed": false
   }
  },
  {
   "cell_type": "code",
   "execution_count": 27,
   "outputs": [
    {
     "name": "stderr",
     "output_type": "stream",
     "text": [
      "Line_27.jupyter.kts (14:37 - 47) Type mismatch: inferred type is Line_27_jupyter.Invariant<Int> but Line_27_jupyter.Invariant<Number> was expected"
     ]
    }
   ],
   "source": [
    "class Invariant<T> {\n",
    "    val foo: T\n",
    "\n",
    "    constructor(foo: T) {\n",
    "        this.foo = foo\n",
    "    }\n",
    "\n",
    "    fun bar(): T {\n",
    "        return foo\n",
    "    }\n",
    "}\n",
    "\n",
    "val invariant1 = Invariant<Int>(3)\n",
    "val invariant2: Invariant<Number> = invariant1 // invariant이므로 불가능"
   ],
   "metadata": {
    "collapsed": false,
    "ExecuteTime": {
     "end_time": "2023-09-03T09:52:39.371844Z",
     "start_time": "2023-09-03T09:52:39.346725Z"
    }
   }
  },
  {
   "cell_type": "markdown",
   "source": [
    "\n",
    "하지만 만약 해당 타입이 output에서만 사용된다면 공변성을 갖는 타입으로 정의도 가능하다."
   ],
   "metadata": {
    "collapsed": false
   }
  },
  {
   "cell_type": "code",
   "execution_count": 28,
   "outputs": [],
   "source": [
    "class Variant<out T> {\n",
    "    val foo: T\n",
    "\n",
    "    constructor(foo: T) {\n",
    "        this.foo = foo\n",
    "    }\n",
    "\n",
    "    fun bar(): T {\n",
    "        return foo\n",
    "    }\n",
    "}\n",
    "\n",
    "\n",
    "val Variant1 = Variant<Int>(3)\n",
    "val Variant2: Variant<Number> = Variant1"
   ],
   "metadata": {
    "collapsed": false,
    "ExecuteTime": {
     "end_time": "2023-09-03T09:52:59.486056Z",
     "start_time": "2023-09-03T09:52:59.411057Z"
    }
   }
  },
  {
   "cell_type": "markdown",
   "source": [
    "위와같이 제네릭 파라미터 T가 out으로만 사용될것이라고 명시해주면(`out T`) 이는 리스코프 치환원칙에서 문제가 생길일이 없기때문에 Variant로서 Variant<Number>가 Variant<Int>의 상위형이 되고 업캐스팅 가능해진다.\n"
   ],
   "metadata": {
    "collapsed": false
   }
  },
  {
   "cell_type": "code",
   "execution_count": null,
   "outputs": [],
   "source": [
    "class ContraVariant<in T> {\n",
    "    fun foo(foo : T) {\n",
    "        println(foo)\n",
    "    }\n",
    "}\n",
    "\n",
    "\n",
    "val ContraVariant1 = ContraVariant<Number>()\n",
    "val ContraVariant2: ContraVariant<Int> = ContraVariant1"
   ],
   "metadata": {
    "collapsed": false
   }
  },
  {
   "cell_type": "markdown",
   "source": [
    "반대로  제네릭 파라미터 T가 input으로만 사용한다면 리스코프 치환원칙에 따라 input은 반공변을 가지므로 ContraVariant<Int>가 ContraVariant<Number>의 상위형이 되고 ContraVariant<Number>에서 ContraVariant<Int> 로 업캐스팅이 가능해진다.\n",
    "\n",
    "즉 리스코프 치환원칙을 준수하기위해 위와같은 전략을 취했다고 볼 수있다.\n",
    "\n",
    "### 제네릭 위치 변성\n",
    "\n",
    "위에서 알아본것처럼 제네릭 선언시 그 변성(in or cont or va)을 정할수도 있지만, 제네릭을 사용할때 지정할수도 있다.\n",
    "\n",
    "이를 제네릭 사용위치 변성이라 부르며\n"
   ],
   "metadata": {
    "collapsed": false
   }
  },
  {
   "cell_type": "code",
   "execution_count": null,
   "outputs": [],
   "source": [
    "val aa: Invariant<out Any> = Invariant<Int>(10)\n"
   ],
   "metadata": {
    "collapsed": false
   }
  },
  {
   "cell_type": "markdown",
   "source": [
    "위와같이 사용도 가능하다.\n",
    "\n",
    "### 자바에서의 extend super?\n",
    "\n",
    "자바의 제네릭 선언방식인 extend super는 bounded 의미도 겸하고있으나 코틀린은 이를 <out T : Number> 와 같이 분리하여 표현한다."
   ],
   "metadata": {
    "collapsed": false
   }
  }
 ],
 "metadata": {
  "kernelspec": {
   "display_name": "Kotlin",
   "language": "kotlin",
   "name": "kotlin"
  },
  "language_info": {
   "name": "kotlin",
   "version": "1.8.20",
   "mimetype": "text/x-kotlin",
   "file_extension": ".kt",
   "pygments_lexer": "kotlin",
   "codemirror_mode": "text/x-kotlin",
   "nbconvert_exporter": ""
  },
  "ktnbPluginMetadata": {
   "isAddProjectLibrariesToClasspath": false
  }
 },
 "nbformat": 4,
 "nbformat_minor": 0
}
