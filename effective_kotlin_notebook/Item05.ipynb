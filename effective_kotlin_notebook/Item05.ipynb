{
 "cells": [
  {
   "cell_type": "markdown",
   "source": [
    "# Item 05. 예외를 활용해 코드에 제한을 걸어라"
   ],
   "metadata": {
    "collapsed": false
   }
  },
  {
   "cell_type": "markdown",
   "source": [
    "## 코틀린 자체 validation api\n",
    "\n",
    "### require\n",
    "- 아규먼트 제한을 위해 사용\n"
   ],
   "metadata": {
    "collapsed": false
   }
  },
  {
   "cell_type": "code",
   "execution_count": 0,
   "outputs": [],
   "source": [
    "fun requireTest(input : String){\n",
    "    require(input.isNotBlank()) {\"빈문자는 안되용\"}\n",
    "    println(\"성공\")\n",
    "}\n",
    "\n",
    "requireTest(\"test\")\n",
    "requireTest(\"\")"
   ],
   "metadata": {
    "collapsed": false
   }
  },
  {
   "cell_type": "markdown",
   "source": [
    "- require를 만족하지 못하면, IllegalArgumentException이 나옴\n",
    "- 스마트 캐스팅이 가능하므로 컴파일러의 도움을 더 받을수 있음\n",
    "- 별도의 예외를 던지고싶으면 람다 블록 안에 넣으면 됨!\n"
   ],
   "metadata": {
    "collapsed": false
   }
  },
  {
   "cell_type": "code",
   "execution_count": 0,
   "outputs": [],
   "source": [
    "import java.lang.IllegalArgumentException\n",
    "\n",
    "fun requireCustomExTest(input : String){\n",
    "    require(input.isNotBlank()) {throw IllegalAccessException(\"빈문자는 안되용\")} // 이쯤되면 사실 if로 throw하는거랑 뭐가 다르지..?\n",
    "    println(\"성공\")\n",
    "}\n",
    "\n",
    "requireCustomExTest(\"\")"
   ],
   "metadata": {
    "collapsed": false
   }
  },
  {
   "cell_type": "markdown",
   "source": [
    "### check()\n",
    "- 특정 객체가 특정 상태를 만족하는지 확인할때 사용하는 validation 메서드\n",
    "- 인풋으로 들어오는 argument를 require로 확인한뒤, 여러 메서드를 통해 반환되는 객체들의 상태를 validation할때는 check() 를 쓰는게 best practice\n",
    "\n",
    "귀찮을수도 있지만, 위와같이 컨벤션을 지켜가며 코드를 작성하면 에러 디버깅이 훨씬 쉬워지고 더 품질 좋은 코드가 될수 있을것!\n",
    "\n",
    "### Assert()\n",
    "- 단위테스트를 위한 검증 메서드\n",
    "- JVM -ea 옵션이 켜져 있을 때만 동작하며 프로덕트 레벨에서 사용을 기대하지 않음\n",
    "- xUnit 프레임워크, 특히 junit이 매우 보편적인 자바 코틀린 진형에서는 프로덕트 코드에 굳이 이같은 테스트 메서드를 집어넣지 않는편. 실무에서도 안씀!\n"
   ],
   "metadata": {
    "collapsed": false
   }
  },
  {
   "cell_type": "markdown",
   "source": [
    "## nullability와 스마트 캐스팅\n",
    "\n",
    "- 코틀린은 require, check로 어떤 조건을 확인해서 true가 나왔다면 해당조건은 이후로도 true일거라고 가정하는 스마트 캐스팅이 가능!\n",
    "- requireNotNull, checkNotNull같은 함수를 쓰자\n",
    "\n",
    "> null 핸들링시엔 if else 보단 ?: 엘비스 연산자를 쓰면 더 이쁨, 사실 취향차이"
   ],
   "metadata": {
    "collapsed": false
   }
  },
  {
   "cell_type": "markdown",
   "source": [],
   "metadata": {
    "collapsed": false
   }
  }
 ],
 "metadata": {
  "kernelspec": {
   "display_name": "Kotlin",
   "language": "kotlin",
   "name": "kotlin"
  },
  "language_info": {
   "name": "kotlin",
   "version": "1.8.0",
   "mimetype": "text/x-kotlin",
   "file_extension": ".kt",
   "pygments_lexer": "kotlin",
   "codemirror_mode": "text/x-kotlin",
   "nbconvert_exporter": ""
  },
  "ktnbPluginMetadata": {
   "isAddProjectLibrariesToClasspath": false
  }
 },
 "nbformat": 4,
 "nbformat_minor": 0
}
