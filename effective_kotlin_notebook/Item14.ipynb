{
 "cells": [
  {
   "cell_type": "raw",
   "source": [
    " Item14. 변수 타입이 명확하지 않을 경우 확실하게 지정하라"
   ],
   "metadata": {
    "collapsed": false
   }
  },
  {
   "cell_type": "raw",
   "source": [
    "## 타입추론은 때론 가독성을 저해한다\n",
    "\n",
    "- 간결함과 가독성은 동일한것이 아님!\n",
    "- item04와 같은 논리로 왠만하면 타입을 명시하라"
   ],
   "metadata": {
    "collapsed": false
   }
  }
 ],
 "metadata": {
  "kernelspec": {
   "display_name": "Kotlin",
   "language": "kotlin",
   "name": "kotlin"
  },
  "language_info": {
   "name": "kotlin",
   "version": "1.8.20",
   "mimetype": "text/x-kotlin",
   "file_extension": ".kt",
   "pygments_lexer": "kotlin",
   "codemirror_mode": "text/x-kotlin",
   "nbconvert_exporter": ""
  },
  "ktnbPluginMetadata": {
   "isAddProjectLibrariesToClasspath": false
  }
 },
 "nbformat": 4,
 "nbformat_minor": 0
}
