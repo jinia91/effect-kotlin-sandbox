{
 "cells": [
  {
   "cell_type": "markdown",
   "source": [
    "# Item 27. 변화로부터 코드를 보호하려면 추상화를 사용하라"
   ],
   "metadata": {
    "collapsed": false
   }
  },
  {
   "cell_type": "markdown",
   "source": [
    "## 1. 상수\n",
    "\n",
    "- 매직 넘버 리터럴을 상수 프로퍼티로 변경하기"
   ],
   "metadata": {
    "collapsed": false
   }
  },
  {
   "cell_type": "code",
   "execution_count": 2,
   "outputs": [],
   "source": [
    "// const val PASSWORD_LENGTH = 6\n",
    "\n",
    "// 6이 무엇을 의미하는지 알 수 없음\n",
    "fun isPasswordValid(input: String): Boolean {\n",
    "    if (input.length < 6) {\n",
    "        return false\n",
    "    }\n",
    "    return true\n",
    "}\n"
   ],
   "metadata": {
    "collapsed": false,
    "ExecuteTime": {
     "end_time": "2023-09-22T14:02:10.525317Z",
     "start_time": "2023-09-22T14:02:10.457303Z"
    }
   }
  },
  {
   "cell_type": "markdown",
   "source": [
    "- 이름 붙이기 가능\n",
    "- 중복 제거 가능\n",
    "\n",
    "## 2. 함수\n",
    "\n",
    "- 함수는 추상화를 표현하는 수단\n",
    "- 함수 시그니처는 이 함수가 어떤 추상화를 표현하고 있는지를 알려줌\n",
    "- 추상화 정도가 높은 레이어에서는 최대한 기술적이지 않은 표현을 쓰는것이 바람직하다.\n",
    "\n",
    "## 3. 클래스\n",
    "- 클래스가 함수에 비해 더 강력한 이유는 상태를 가질수 있고, 많은 함수를 가질수 있다는 점\n",
    "\n",
    "## 4. 인터페이스\n",
    "\n",
    "## 5. 래핑 클래스 활용하기\n",
    "- 보편적 객체인경우 도메인에 의미있는 특수한 객체로 래핑함으로서 변경에 보다 유연해질 수 있음\n",
    "\n",
    "## 추상화의 문제\n",
    "- 간접계층과 추상화는 끝없이 할 수 있음\n",
    "- https://github.com/EnterpriseQualityCoding/FizzBuzzEnterpriseEdition\n",
    "- 어떻게 균형을 맞춰야 할까?\n",
    "\n",
    "## 균형잡기\n",
    "- 팀의 크기\n",
    "- 팀의 경험\n",
    "- 프로젝트의 크기\n",
    "- 기능 세트\n",
    "- 도메인 지식\n",
    "\n",
    "- 팀 규모가 클수록 추상화는 가치있음\n",
    "- 프로젝트 규모가 클수록 추상화는 가치있음\n",
    "- 예술의 영역... 균형잡기는 니들이 알아서?...\n",
    "\n"
   ],
   "metadata": {
    "collapsed": false
   }
  },
  {
   "cell_type": "markdown",
   "source": [],
   "metadata": {
    "collapsed": false
   }
  }
 ],
 "metadata": {
  "kernelspec": {
   "display_name": "Kotlin",
   "language": "kotlin",
   "name": "kotlin"
  },
  "language_info": {
   "name": "kotlin",
   "version": "1.8.20",
   "mimetype": "text/x-kotlin",
   "file_extension": ".kt",
   "pygments_lexer": "kotlin",
   "codemirror_mode": "text/x-kotlin",
   "nbconvert_exporter": ""
  },
  "ktnbPluginMetadata": {
   "projectLibraries": []
  }
 },
 "nbformat": 4,
 "nbformat_minor": 0
}
