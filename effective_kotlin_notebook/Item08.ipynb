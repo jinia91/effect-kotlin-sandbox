{
 "cells": [
  {
   "cell_type": "markdown",
   "source": [
    "# Item 08. null 처리"
   ],
   "metadata": {
    "collapsed": false
   }
  },
  {
   "cell_type": "markdown",
   "source": [
    "## null의 의미\n",
    "- 화면상에는 표시되지 않고 오직 바이트 상으로만 존재하는 제어 문자 가운데 하나.\n",
    "- 아스키 코드 0번(0x00). Null은 문자 '0'과는 다르며 문자 '0'의 아스키 코드값은 48이다.\n",
    "- 유니코드는 U+0000\n",
    "- 개념적으로는 0은 숫자로 정의되었는데 내용이 없는 것, Null은 숫자인지 글인지 정의된 형식조차 없는 것\n",
    "\n",
    "\n",
    "즉 값이 설정되지 않았거나, 제거되었다는것을 나타냄\n"
   ],
   "metadata": {
    "collapsed": false
   }
  },
  {
   "cell_type": "markdown",
   "source": [
    "## null 핸들링 practice 3가지\n"
   ],
   "metadata": {
    "collapsed": false
   }
  },
  {
   "cell_type": "markdown",
   "source": [
    "### 1. ?. , 스마트 캐스팅, ?: 로 안전하게 핸들링\n",
    "\n",
    "- 코틀린에서 제공하는 null핸들링 api와 더불어 다양하게 존재하는 null 핸들링 메서드들을 사용하자.\n",
    "\n",
    "- 특히 코틀린에서 contract 기능이 붙은 함수의 경우 스마트 캐스팅으로 이후 로직에 반영이 가능!\n",
    "\n",
    "\n",
    "#### 방어적 프로그래밍 vs 공격적 프로그래밍\n",
    "- 방어적 프로그래밍 : 최대한 모든 로직을 올바른방식으로 분기타서 핸들링하게끔 코드 작성하기\n",
    "- 공격적 프로그래밍 : 안전하지 않은 상황에서 validation을 작성 `require, check, assert` 예외던지기\n",
    "\n",
    "### 2. 예외 throw\n",
    "\n",
    "- null일때 예외던지기\n"
   ],
   "metadata": {
    "collapsed": false
   }
  },
  {
   "cell_type": "markdown",
   "source": [
    "### 3. !!\n",
    "!!는 근본적으로 자바와 동일하게 NPE를 발생시킬 위험이 있기 떄문에 바람직한 핸들링 방법이라고 볼 수없다.\n",
    "\n",
    "- !! 보다는 null 체킹을 하는게 좀더 바람직한 코드 작성방식\n",
    "- 하지만 코드양이 증가하지 않나...?\n",
    "- 일부팀에서는 아예 !! 를 K린트를 통해 막기도한다!\n",
    "- 만약 nllable하게 초기화되어야할 프로퍼티라면 지연이나 Delegates.notNull을 사용하자\n"
   ],
   "metadata": {
    "collapsed": false
   }
  },
  {
   "cell_type": "markdown",
   "source": [
    "## 애초에 의미없는 nullable을 허용하지 말자\n",
    "\n",
    "의미가 있다면 써야하지만, 의미없이 그냥 nullable한 코드는 잘못된 코드!\n",
    "\n",
    "- 빈컬렉션 > Null"
   ],
   "metadata": {
    "collapsed": false
   }
  },
  {
   "cell_type": "markdown",
   "source": [
    "\n",
    "## lateinit 프로퍼티\n",
    "\n",
    "본래는 생성자 주입을 통해 프로퍼티를 초기화하는것이 가장 바람직하지만, 스프링프레임워크나 junit을 사용하다보면 지연 초기화를 사용할 일이 생긴다.\n",
    "\n",
    "이때 코틀린은 지연 초기화를 위해 `lateinit` 키워드를 제공한다.\n",
    "\n",
    "nullable하게 프로퍼티를 선언하지말고 `latenit`을 쓰자\n"
   ],
   "metadata": {
    "collapsed": false
   }
  },
  {
   "cell_type": "markdown",
   "source": [
    "## notNull 델리케이트\n",
    "\n",
    "만약 스프링을 통해 `@Value`로 특정값을 프리미티드 타입으로 지연주입하려하면 실패하게된다.\n",
    "\n",
    "Int, Long 등의 타입은 lateinit이 불가능하기때문! (String은 된다)\n",
    "\n",
    "따라서"
   ],
   "metadata": {
    "collapsed": false
   }
  },
  {
   "cell_type": "code",
   "execution_count": null,
   "outputs": [],
   "source": [
    "@Value\n",
    "private var accessTokenExpiresIn = 0L"
   ],
   "metadata": {
    "collapsed": false
   }
  },
  {
   "cell_type": "markdown",
   "source": [
    "위와 같은 방식으로 작성하게 될 확률이 높은데 이럴땐"
   ],
   "metadata": {
    "collapsed": false
   }
  },
  {
   "cell_type": "markdown",
   "source": [
    "        import kotlin.properties.Delegates\n",
    "\n",
    "        @Value\n",
    "        private var accessTokenExpiresIn2 : Int by Delegates.notNull()\n",
    "\n",
    "위처럼 위임을 하면 보다 안전하다."
   ],
   "metadata": {
    "collapsed": false
   }
  }
 ],
 "metadata": {
  "kernelspec": {
   "display_name": "Kotlin",
   "language": "kotlin",
   "name": "kotlin"
  },
  "language_info": {
   "name": "kotlin",
   "version": "1.8.0",
   "mimetype": "text/x-kotlin",
   "file_extension": ".kt",
   "pygments_lexer": "kotlin",
   "codemirror_mode": "text/x-kotlin",
   "nbconvert_exporter": ""
  },
  "ktnbPluginMetadata": {
   "isAddProjectLibrariesToClasspath": false
  }
 },
 "nbformat": 4,
 "nbformat_minor": 0
}
