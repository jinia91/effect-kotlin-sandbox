{
 "cells": [
  {
   "cell_type": "markdown",
   "source": [
    "# Item 09. Use() 를 사용해 리소스를 닫아라"
   ],
   "metadata": {
    "collapsed": false
   }
  },
  {
   "cell_type": "markdown",
   "source": [
    "\n",
    "## close를 사용해 명시적으로 리소스를 닫아야하는 자바 메서드들\n",
    "\n",
    "- `InputStream`, `OutputStream`\n",
    "- `sql.Connection`\n",
    "- `io.Reader(FileReader, BufferedReader,CssParser)`\n",
    "- `Socket`, `Scanner`\n",
    "\n",
    "## 자바의 핸들링\n",
    "\n",
    "### 전통적인 try - finally\n",
    "\n",
    "            ry {\n",
    "                    is = new FileInputStream(\"file.txt\");\n",
    "                    bis = new BufferedInputStream(is);\n",
    "                    int data = -1;\n",
    "                    while((data = bis.read()) != -1){\n",
    "                        System.out.print((char) data);\n",
    "                    }\n",
    "                } finally {\n",
    "                    // close resources\n",
    "                    if (is != null) is.close();\n",
    "                    if (bis != null) bis.close();\n",
    "                }\n",
    "            }\n",
    "\n",
    "- 인덴트가 깊어지고 코드가 못생겨진다...\n",
    "\n",
    "### AutoCloseable\n",
    "\n",
    "        try (MangKyuResource mangKyuResource = new MangKyuResource()) {\n",
    "        mangKyuResource.hello();\n",
    "        }\n",
    "\n",
    "\n",
    "try - with - resource 방식으로 핸들링가능!\n",
    "\n",
    "\n",
    "### kotlin Use\n",
    "\n",
    "        BufferedReader(FileReader(\"file.txt\")).use { br ->\n",
    "            var line: String?\n",
    "            while (br.readLine().also { line = it } != null) {\n",
    "                // Process the line.\n",
    "            }\n",
    "        }\n",
    "\n",
    "코틀린에서는 Closable 인터페이스를 구현한 구현체를 사용할때 use 메서드를 통해 람다를 넘겨 간단하게 사용할 수 있다.\n",
    "\n",
    "try with resource 구분과 use 둘중 뭘 사용할지는 자유\n",
    "\n",
    "> 파일 한줄 읽기 useLines() 메서드도 있으니 알아두자"
   ],
   "metadata": {
    "collapsed": false
   }
  },
  {
   "cell_type": "markdown",
   "source": [
    "\n"
   ],
   "metadata": {
    "collapsed": false
   }
  }
 ],
 "metadata": {
  "kernelspec": {
   "display_name": "Kotlin",
   "language": "kotlin",
   "name": "kotlin"
  },
  "language_info": {
   "name": "kotlin",
   "version": "1.8.0",
   "mimetype": "text/x-kotlin",
   "file_extension": ".kt",
   "pygments_lexer": "kotlin",
   "codemirror_mode": "text/x-kotlin",
   "nbconvert_exporter": ""
  }
 },
 "nbformat": 4,
 "nbformat_minor": 0
}
