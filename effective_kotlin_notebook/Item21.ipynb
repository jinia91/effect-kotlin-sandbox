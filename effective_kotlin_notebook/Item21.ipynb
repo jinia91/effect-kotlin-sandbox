{
 "cells": [
  {
   "cell_type": "markdown",
   "source": [
    "# Item 21. 일반적인 프로퍼티 패턴은 프로퍼티 위임으로 만들어라"
   ],
   "metadata": {
    "collapsed": false
   }
  },
  {
   "cell_type": "markdown",
   "source": [
    "## 프로퍼티 위임?\n",
    "\n",
    "Item 16에서 프로퍼티는 클래스의 상태 정보를 조작하거나 조회하는 일종의 래퍼 로서 정의했다.\n",
    "\n",
    "이러한 프로퍼티 조회 혹은설정은 다양한 패턴이 존재하고 이 반복되는 패턴을 추출하여 재사용 가능하게 하는 것이 코틀린의 프로퍼티 위임이다."
   ],
   "metadata": {
    "collapsed": false
   }
  },
  {
   "cell_type": "markdown",
   "source": [
    "## Standard Property Delegation\n",
    "\n",
    "kotlin stdlib에서 제공해주는 기본 프로퍼티 델리게이터\n",
    "\n",
    "- lazy\n",
    "- Delegates.observable\n",
    "- Delegates.vetoable\n",
    "- Delegates.notNull"
   ],
   "metadata": {
    "collapsed": false
   }
  },
  {
   "cell_type": "markdown",
   "source": [
    "### lazy?\n",
    "\n",
    "코틀린은 크게 두가지 지연 초기화 기법을 제공한다.\n",
    "\n",
    "- Late init : 필요할 때 초기화하고 사용할 수 있음. 초기화하지 않고 쓰면 throw ex"
   ],
   "metadata": {
    "collapsed": false
   }
  },
  {
   "cell_type": "code",
   "execution_count": null,
   "outputs": [],
   "source": [
    "class Rectangle {\n",
    "    lateinit var area: Area\n",
    "    fun initArea(param: Area): Unit {\n",
    "        this.area = param\n",
    "    }\n",
    "}\n",
    "\n",
    "class Area(val value: Int)\n",
    "\n",
    "val rectangle = Rectangle()\n",
    "rectangle.initArea(Area(10)) // 초기화안하면 예외터짐!\n",
    "println(rectangle.area.value)"
   ],
   "metadata": {
    "collapsed": false
   }
  },
  {
   "cell_type": "markdown",
   "source": [
    "- lateinit을 사용\n",
    "\n",
    "자바의 클래스 멤버 변수 지연 초기화할때랑 동일한 방식으로 스프링 사용시 @Autowired 등 필드 주입할 필요가 있을때 주로 사용\n",
    "\n",
    "프리미티브 타입은 사용 불가, var 에만 사용가능하며 커스텀 getter, setter 불가능\n",
    "NonNull 프로퍼티만 사용가능\n",
    "\n",
    "- Lazy init : 변수를 선언할 때 초기화 코드도 함께 정의"
   ],
   "metadata": {
    "collapsed": false
   }
  },
  {
   "cell_type": "code",
   "execution_count": null,
   "outputs": [],
   "source": [
    "val balance : Int by lazy {\n",
    "    println(\"Setting balance!\")\n",
    "    100\n",
    "}"
   ],
   "metadata": {
    "collapsed": false
   }
  },
  {
   "cell_type": "markdown",
   "source": [
    "val 도 가능, 프리미티브 타입 가능, Non-null, nullable 둘다 가능\n",
    "**쓰레드 세이프함!**\n"
   ],
   "metadata": {
    "collapsed": false
   }
  },
  {
   "cell_type": "markdown",
   "source": [
    "### NotNull?\n",
    "\n",
    "deletgation을 통해 NotNull을 쓸경우도 프로퍼티 지연 로딩이 가능하고, 호출시 Null 체킹을 하므로 lateInit과 비슷한 의도로 사용가능하다\n",
    "\n",
    "하지만 위임방식이므로 val, 프리미티브 타입에 가능하고 쓰레드 세이프한 장점이있다.\n",
    "\n",
    "반면 lateInit에 비해 추가적인 오버헤드를 감안해야한다.\n"
   ],
   "metadata": {
    "collapsed": false
   }
  },
  {
   "cell_type": "code",
   "execution_count": 14,
   "outputs": [
    {
     "name": "stdout",
     "output_type": "stream",
     "text": [
      "Non null value is: text\n"
     ]
    }
   ],
   "source": [
    "import kotlin.properties.Delegates\n",
    "\n",
    "var nonNullString: String by Delegates.notNull<String>()\n",
    "nonNullString = \"text\"\n",
    "println(\"Non null value is: ${nonNullString}\")"
   ],
   "metadata": {
    "collapsed": false,
    "ExecuteTime": {
     "end_time": "2023-09-03T06:56:15.263277Z",
     "start_time": "2023-09-03T06:56:15.162052Z"
    }
   }
  },
  {
   "cell_type": "markdown",
   "source": [
    "### observable\n",
    "\n",
    "setter 호출시마다 observable로 작성한 콜백을 실행하는 방식\n",
    "\n",
    "### vetoable\n",
    "\n",
    "setter 호출시 vetoable로 각성한 콜백을 실행하여 t/f 를 반환하고 반환값이 f면 에러를 발생시키는 일종의 validation 기법\n",
    "\n"
   ],
   "metadata": {
    "collapsed": false
   }
  },
  {
   "cell_type": "markdown",
   "source": [
    "## 실무적으로?\n",
    "\n",
    "프로퍼티 위임을 처음에 학습하면 주로 엔티티에 쓰고 싶은 욕심이 생기는데 안타깝게도 jpa 엔티티는 프로퍼티 위임을 사용할 수 없다.\n",
    "\n",
    "클린아키텍처를 적극적으로 수용하여 도메인레이어와 영속레이어를 분리시키고 정말 순수한 도메인을 유지한다면 도메인 레이어의 엔티티에 `vetoable` 같은 위임을 사용하여\n",
    "\n",
    "invariant 한 검증등은 할수 있지만 그렇지 않은 프로젝트에서 적극 사용하기엔 부담스럽다.\n",
    "\n",
    "현실적으로는 dto 들에 일부 적용하는정도...\n"
   ],
   "metadata": {
    "collapsed": false
   }
  },
  {
   "cell_type": "code",
   "execution_count": null,
   "outputs": [],
   "source": [],
   "metadata": {
    "collapsed": false
   }
  }
 ],
 "metadata": {
  "kernelspec": {
   "display_name": "Kotlin",
   "language": "kotlin",
   "name": "kotlin"
  },
  "language_info": {
   "name": "kotlin",
   "version": "1.8.20",
   "mimetype": "text/x-kotlin",
   "file_extension": ".kt",
   "pygments_lexer": "kotlin",
   "codemirror_mode": "text/x-kotlin",
   "nbconvert_exporter": ""
  },
  "ktnbPluginMetadata": {
   "isAddProjectLibrariesToClasspath": false
  }
 },
 "nbformat": 4,
 "nbformat_minor": 0
}
