{
 "cells": [
  {
   "cell_type": "markdown",
   "source": [
    "# Item 47. 인라인 클래스의 사용을 고려하라\n",
    "\n",
    "## 인라인 클래스란?\n",
    "- 인라인 클래스는 코틀린 1.3부터 지원하는 기능으로, 래핑된 값에 대한 추가 메모리 할당 없이 컴파일시점에 오토언박싱되어 래핑된 값을 사용할 수 있게 해주는 기능이다.\n",
    "- primitive type을 래핑하여 사용할 때 유용하다.\n",
    "- 현재는 안정화 버전으로 value class라는 이름으로 변경되었다.\n",
    "\n",
    "## 원리?\n",
    "- 원리자체는 코틀린 Int, Long 등 래핑클래스와 동일하다.\n",
    "- 코드작성시점에는 강타입으로서 존재하지만 코틀린컴파일러가 자바바이트코드로 컴파일할때 언박싱하여 내부 타입을 그대로 사용한다\n",
    "- 따라서 내부 프로퍼티는 단 하나만 가질수있는 제약이 있다.\n",
    "\n",
    "## 실무에서\n",
    "- 강타입으로서 사용되며 객체를 생성하지 않는다는점에서 가독성, 강타입, 도메인 유의성, 성능 모두를 잡았다고 할수 있지만...\n",
    "- 실제 실무에서는 사용하지 않는것이 좋다.\n",
    "- Int, Long처럼 제네릭으로 사용되거나 nullable일경우 언박싱되지않으며, 그외에도 다양한 시나리오에서 박싱 언박싱이 선택적으로 동작하는데 리플렉션을 사용하는 많은 라이브러리들이 이러한 동작을 고려하지않았기때문에 호환성에 문제가 생긴다\n",
    "- 코틀린 라이브러리들에서는 이러한 동작에 호환되더라도 대부분의 자바라이브러리에서는 위와같은 문제가 발생한다.\n",
    "- 대표적으로 JPA에서 아이디를 value class로 쓸경우 문제가 발생하고, fixture monkey도 이러한 문제를 겪고있다.\n",
    "## typealias\n",
    "- 강타입으로서 효과가 없다\n",
    "\n",
    "## 유의미한 value object 정의시엔 결국 data class\n",
    "- 객체 생성이 부담되긴하지만 자바도 그동안 그래왔고... value class는 실무에서 사용되기 부담스럽다. 더 안정화되기전까진 data class를 사용하는것이 좋다."
   ],
   "metadata": {
    "collapsed": false
   }
  },
  {
   "cell_type": "markdown",
   "source": [],
   "metadata": {
    "collapsed": false
   }
  },
  {
   "cell_type": "code",
   "outputs": [],
   "source": [],
   "metadata": {
    "collapsed": false
   }
  },
  {
   "cell_type": "markdown",
   "source": [],
   "metadata": {
    "collapsed": false
   }
  },
  {
   "cell_type": "code",
   "outputs": [],
   "source": [],
   "metadata": {
    "collapsed": false
   }
  },
  {
   "cell_type": "markdown",
   "source": [],
   "metadata": {
    "collapsed": false
   }
  },
  {
   "cell_type": "code",
   "outputs": [],
   "source": [],
   "metadata": {
    "collapsed": false
   }
  }
 ],
 "metadata": {
  "kernelspec": {
   "display_name": "Kotlin",
   "language": "kotlin",
   "name": "kotlin"
  },
  "language_info": {
   "name": "kotlin",
   "version": "1.8.20",
   "mimetype": "text/x-kotlin",
   "file_extension": ".kt",
   "pygments_lexer": "kotlin",
   "codemirror_mode": "text/x-kotlin",
   "nbconvert_exporter": ""
  },
  "ktnbPluginMetadata": {
   "projectLibraries": []
  }
 },
 "nbformat": 4,
 "nbformat_minor": 0
}
