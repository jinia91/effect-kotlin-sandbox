{
 "cells": [
  {
   "cell_type": "markdown",
   "source": [
    "# Item 28. API 안정성을 확인하라"
   ],
   "metadata": {
    "collapsed": false
   }
  },
  {
   "cell_type": "markdown",
   "source": [
    "## 불안정한 API 는 명시해주자\n",
    "\n",
    "- 초기 API는 발전하기 위해서라도 변경이 필요함\n",
    "- 불안정한 API를 릴리즈한다면, 사용자에게 명시해주자\n",
    "  - 버저닝\n",
    "  - Experimental 어노테이션 사용하기\n",
    "\n",
    "## 안정적인 API가 변경되어야한다면?\n",
    "\n",
    "- Deprecated 어노테이션을 사용하자\n",
    "- ReplaceWith 어노테이션도 유용 "
   ],
   "metadata": {
    "collapsed": false
   }
  },
  {
   "cell_type": "markdown",
   "source": [],
   "metadata": {
    "collapsed": false
   }
  }
 ],
 "metadata": {
  "kernelspec": {
   "display_name": "Kotlin",
   "language": "kotlin",
   "name": "kotlin"
  },
  "language_info": {
   "name": "kotlin",
   "version": "1.8.20",
   "mimetype": "text/x-kotlin",
   "file_extension": ".kt",
   "pygments_lexer": "kotlin",
   "codemirror_mode": "text/x-kotlin",
   "nbconvert_exporter": ""
  },
  "ktnbPluginMetadata": {
   "projectLibraries": []
  }
 },
 "nbformat": 4,
 "nbformat_minor": 0
}
