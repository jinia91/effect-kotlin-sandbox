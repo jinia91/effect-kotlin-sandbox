{
 "cells": [
  {
   "cell_type": "markdown",
   "source": [
    "# Item 04. 타입추론으로 return하지 말자"
   ],
   "metadata": {
    "collapsed": false
   }
  },
  {
   "cell_type": "markdown",
   "source": [
    "코틀린의 타입추론은 매우 훌륭하지만, 해당 타입을 exactly 하게만 return으로 추론할수 있을뿐, 추상화된 인터페이스로 return 시킬수 없음.\n",
    "결국 추상화가 필요해질때 해당 코드들을 다 수정해야할 필요가 생길수 있으며, 만약 멀티모듈로 작업하게된다면 별도 레포나 라이브러리의 수정이 필요할수도 있다.\n",
    "\n",
    "특히 사내 common 라이브러리와 같은 public interface를 제공하는 공용 라이브러리 개발시 리턴타입은 귀찮더라도 꼭 적어두는게 best practice!"
   ],
   "metadata": {
    "collapsed": false
   }
  }
 ],
 "metadata": {
  "kernelspec": {
   "display_name": "Kotlin",
   "language": "kotlin",
   "name": "kotlin"
  },
  "language_info": {
   "name": "kotlin",
   "version": "1.8.0",
   "mimetype": "text/x-kotlin",
   "file_extension": ".kt",
   "pygments_lexer": "kotlin",
   "codemirror_mode": "text/x-kotlin",
   "nbconvert_exporter": ""
  },
  "ktnbPluginMetadata": {
   "isAddProjectLibrariesToClasspath": false
  }
 },
 "nbformat": 4,
 "nbformat_minor": 0
}
