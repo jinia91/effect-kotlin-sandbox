{
 "cells": [
  {
   "cell_type": "markdown",
   "source": [
    "# Item 03. 최대한 플랫폼 타입을 피하라"
   ],
   "metadata": {
    "collapsed": false
   }
  },
  {
   "cell_type": "markdown",
   "source": [
    "## (1) 플랫폼 타입?\n",
    "\n",
    "코틀린은 멀티플랫폼언어이며, 해당 플랫폼에서 정의된 타입을 코틀린에서 사용할때 이를 플랫폼 타입 언어라 부른다.\n",
    "\n",
    "가장 대표적인 자바의 경우 기본적으로 모든 타입이 nullable하기 때문에 이를 직접 사용하면 null 관련 다양한 이슈를 만나게 된다.\n",
    "\n",
    "물론 자바에서도 NPE를 피하기 위해 @Nullabe @Notnull 과 같은 어노테이션을 사용하고 코틀린은 이러한 어노테이션을 호환하지만 그럼에도 근본적인 문제해결은 안되므로,\n",
    "\n",
    "되도록 플랫폼 타입을 피하거나 쉽지 않다면 플랫폼 언어 코드(주로 자바)에 어노테이션을 붙여 호환성을 높이도록 하자.\n"
   ],
   "metadata": {
    "collapsed": false
   }
  },
  {
   "cell_type": "markdown",
   "source": [
    "## 예시"
   ],
   "metadata": {
    "collapsed": false
   }
  },
  {
   "cell_type": "markdown",
   "source": [
    "\n",
    "        public class SampleJavaClass {\n",
    "            String sample;\n",
    "\n",
    "            public SampleJavaClass() {}\n",
    "\n",
    "            public SampleJavaClass(String sample) {\n",
    "                this.sample = sample;\n",
    "            }\n",
    "\n",
    "            public String getSample() {\n",
    "                return sample;\n",
    "            }\n",
    "        }\n",
    "\n",
    "\n",
    "        fun main() {\n",
    "            val clazz = SampleJavaClass()\n",
    "            clazz.sample.length\n",
    "        }\n",
    "\n",
    "위와같이 자바로 정의한 타입을 코틀린에서 사용할경우 sample은 nullable함에도 불구하고 notnull로 인지하고 호출하여 NPE 가 발생하게된다.\n",
    "\n",
    "따라서 @Nullable과 같은 어노테이션을 붙여 코틀린컴파일러에게 좀더 정보를 주도록하자.\n",
    "\n",
    "         public class SampleJavaClass {\n",
    "            @Nullable\n",
    "            String sample;\n",
    "\n",
    "            public SampleJavaClass() {}\n",
    "\n",
    "\n"
   ],
   "metadata": {
    "collapsed": false
   }
  },
  {
   "cell_type": "markdown",
   "source": [
    "## (2) 장기적으론 플랫폼타입은 제거하자\n",
    "\n",
    "어노테이션으로 정보를 전해준다고 하더라도, 모든 메서드의 반환값에 지정해주기는 어렵고, 플랫폼 타입을 할당받는 경우 할당시점에는 NPE가 나지 않고 이를 사용하는 시점에 NPE가 발생하기 때문에, 디버깅이 쉽지않다. 따라서 장기적으로는 플랫폼 타입의 코드를 코틀린 코드로 마이그레이션해주는것이 바람직하다.\n",
    "\n",
    "\n"
   ],
   "metadata": {
    "collapsed": false
   }
  }
 ],
 "metadata": {
  "kernelspec": {
   "display_name": "Kotlin",
   "language": "kotlin",
   "name": "kotlin"
  },
  "language_info": {
   "name": "kotlin",
   "version": "1.8.0",
   "mimetype": "text/x-kotlin",
   "file_extension": ".kt",
   "pygments_lexer": "kotlin",
   "codemirror_mode": "text/x-kotlin",
   "nbconvert_exporter": ""
  }
 },
 "nbformat": 4,
 "nbformat_minor": 0
}
