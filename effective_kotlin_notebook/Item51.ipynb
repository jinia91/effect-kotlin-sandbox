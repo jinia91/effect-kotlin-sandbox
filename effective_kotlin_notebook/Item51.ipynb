{
 "cells": [
  {
   "cell_type": "markdown",
   "source": [
    "# Item 51. 성능이 중요한 부분에는 기본 자료형 배열을 사용하라\n",
    "\n",
    "## 코틀린은 기본 자료형이 없다.\n",
    "\n",
    "- 객체지향언어로서 기본 자료형이 존재하지 않고 선언도 불가능하다.\n",
    "- 다만 기존 자바의 기본자료형을 래핑한 클래스들은 value class 처럼 오토 박싱/언박싱 을 통해 컴파일 시점에 기본 자료형으로 바뀌어 최적화를 한다.\n",
    "\n",
    "## 대규모 데이터 처리를 성능이 민감한 환경에서 수행한다면 자료형 배열을 쓰자\n",
    "\n",
    "- 코틀린에서는 Int나 Long같은 래핑 클래스를 리스트로 담으면 Integer Long같은 박싱타입으로 취급한다.\n",
    "- 이럴때는 IntArray, LongArray 같은 primitive array 를 사용하면 된다."
   ],
   "metadata": {
    "collapsed": false
   }
  },
  {
   "cell_type": "code",
   "outputs": [],
   "source": [
    "val boxArray : Array<Int> = arrayOf(1,2,3) // 박싱타입 배열로 취급되어 배열을 쓰는 장점이 없어진다\n",
    "val primitiveArray : IntArray = intArrayOf(1,2,3) // 이렇게 쓰자"
   ],
   "metadata": {
    "collapsed": false
   },
   "execution_count": null
  },
  {
   "cell_type": "markdown",
   "source": [],
   "metadata": {
    "collapsed": false
   }
  },
  {
   "cell_type": "code",
   "outputs": [],
   "source": [],
   "metadata": {
    "collapsed": false
   }
  },
  {
   "cell_type": "markdown",
   "source": [],
   "metadata": {
    "collapsed": false
   }
  },
  {
   "cell_type": "markdown",
   "source": [],
   "metadata": {
    "collapsed": false
   }
  },
  {
   "cell_type": "markdown",
   "source": [],
   "metadata": {
    "collapsed": false
   }
  }
 ],
 "metadata": {
  "kernelspec": {
   "display_name": "Kotlin",
   "language": "kotlin",
   "name": "kotlin"
  },
  "language_info": {
   "name": "kotlin",
   "version": "1.8.20",
   "mimetype": "text/x-kotlin",
   "file_extension": ".kt",
   "pygments_lexer": "kotlin",
   "codemirror_mode": "text/x-kotlin",
   "nbconvert_exporter": ""
  },
  "ktnbPluginMetadata": {
   "projectLibraries": []
  }
 },
 "nbformat": 4,
 "nbformat_minor": 0
}
