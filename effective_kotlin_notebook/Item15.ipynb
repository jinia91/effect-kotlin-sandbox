{
 "cells": [
  {
   "cell_type": "markdown",
   "source": [
    "# Item15. 리시버를 명시적으로 참조하라"
   ],
   "metadata": {
    "collapsed": false
   }
  },
  {
   "cell_type": "markdown",
   "source": [
    "## 리시버란?\n",
    "객체지향 언어로서 메서드라는 메시지를 수신하는 객체"
   ],
   "metadata": {
    "collapsed": false
   }
  },
  {
   "cell_type": "markdown",
   "source": [
    "## 여러개의 리시버일때\n",
    "\n",
    "스코프 내부에 둘 이상의 리시버가 있는경우 리시버를 명시적으로 나타내자\n",
    "\n",
    "코틀린의경우 함수형 패러다임을 적극적으로 적용했기 때문에 하나의 메서드 안에 여러 스코프가 존재하는 스타일이 존재하기 쉽다.\n",
    "\n",
    "이때 리시버를 보다 명시적으로 표현하여 가독성을 높이자\n",
    "\n"
   ],
   "metadata": {
    "collapsed": false
   }
  },
  {
   "cell_type": "code",
   "execution_count": 1,
   "outputs": [
    {
     "name": "stdout",
     "output_type": "stream",
     "text": [
      "Create parent"
     ]
    },
    {
     "data": {
      "text/plain": "Line_1_jupyter$Node@10c71cac"
     },
     "execution_count": 1,
     "metadata": {},
     "output_type": "execute_result"
    }
   ],
   "source": [
    "class Node(val name: String) {\n",
    "    fun makeChild(childName: String) =\n",
    "        create(\"$name's $childName\")\n",
    "            .apply { print(\"Create $name\") }\n",
    "\n",
    "    fun create(name: String): Node? = Node(name)\n",
    "}\n",
    "\n",
    "val node = Node(\"parent\")\n",
    "node.makeChild(\"child\")\n",
    "\n",
    "// print로 Create 부모? 자식?"
   ],
   "metadata": {
    "collapsed": false,
    "ExecuteTime": {
     "end_time": "2023-08-30T12:33:52.071656Z",
     "start_time": "2023-08-30T12:33:51.876725Z"
    }
   }
  },
  {
   "cell_type": "markdown",
   "source": [
    "위의 로직을 실행하면 자식이 출력되는데 이는 apply함수의 {} 스코프의 리시버를 명시하지 않았기 때문"
   ],
   "metadata": {
    "collapsed": false
   }
  },
  {
   "cell_type": "code",
   "execution_count": 3,
   "outputs": [
    {
     "name": "stdout",
     "output_type": "stream",
     "text": [
      "Create parent's child"
     ]
    },
    {
     "data": {
      "text/plain": "Line_3_jupyter$Node2@5f4ebf10"
     },
     "execution_count": 3,
     "metadata": {},
     "output_type": "execute_result"
    }
   ],
   "source": [
    "class Node2(val name: String) {\n",
    "    fun makeChild(childName: String) =\n",
    "        create(\"$name's $childName\")\n",
    "            .apply { print(\"Create ${this?.name}\") }\n",
    "\n",
    "    fun create(name: String): Node2? = Node2(name)\n",
    "}\n",
    "\n",
    "val node = Node2(\"parent\")\n",
    "node.makeChild(\"child\")\n"
   ],
   "metadata": {
    "collapsed": false,
    "ExecuteTime": {
     "end_time": "2023-08-30T12:37:42.582259Z",
     "start_time": "2023-08-30T12:37:42.501753Z"
    }
   }
  },
  {
   "cell_type": "markdown",
   "source": [
    "위처럼 표현해야 의도한 parent's child가 출력된다.\n",
    "\n",
    "또한 생략 가능한 this를 리시버로 사용하는 apply와 달리 위와같은 케이스는 반드시 it 리시버를 써야하는 let이나 also를 쓰는게 더 바람직하다.\n",
    "\n",
    "실무에서도 같은 프로퍼티를 매핑하는 로직에서 apply나 Run을 사용하는경우 리시버를 생략하여 부정확한 값을 매핑하는 경우가 실제로 생기기도 하므로\n",
    "\n",
    "리시버가 가독성을 도울수 있다 판단한다면 apply나 run을 쓰자\n",
    "\n"
   ],
   "metadata": {
    "collapsed": false
   }
  },
  {
   "cell_type": "markdown",
   "source": [
    "### Dsl 설계시엔 DSL 마커를 사용해서 외부 리시버를 사용하지 못하도록 하자"
   ],
   "metadata": {
    "collapsed": false
   }
  },
  {
   "cell_type": "code",
   "execution_count": null,
   "outputs": [],
   "source": [],
   "metadata": {
    "collapsed": false
   }
  }
 ],
 "metadata": {
  "kernelspec": {
   "display_name": "Kotlin",
   "language": "kotlin",
   "name": "kotlin"
  },
  "language_info": {
   "name": "kotlin",
   "version": "1.8.20",
   "mimetype": "text/x-kotlin",
   "file_extension": ".kt",
   "pygments_lexer": "kotlin",
   "codemirror_mode": "text/x-kotlin",
   "nbconvert_exporter": ""
  },
  "ktnbPluginMetadata": {
   "isAddProjectLibrariesToClasspath": false
  }
 },
 "nbformat": 4,
 "nbformat_minor": 0
}
