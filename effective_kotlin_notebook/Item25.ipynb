{
 "cells": [
  {
   "cell_type": "markdown",
   "source": [
    "# Item 25. 공통 모듈을 추철해서 여러 플랫폼에서 재사용해라"
   ],
   "metadata": {
    "collapsed": false
   }
  },
  {
   "cell_type": "markdown",
   "source": [
    "- 코틀린 멀티 플랫폼을 사용해 중복 사용되는 코드를 공통 모듈로 빼내고 풀스택 개발을 해보자... 라고 책에서 말하지만\n",
    "실제로 가능할까?"
   ],
   "metadata": {
    "collapsed": false
   }
  }
 ],
 "metadata": {
  "kernelspec": {
   "display_name": "Kotlin",
   "language": "kotlin",
   "name": "kotlin"
  },
  "language_info": {
   "name": "kotlin",
   "version": "1.8.20",
   "mimetype": "text/x-kotlin",
   "file_extension": ".kt",
   "pygments_lexer": "kotlin",
   "codemirror_mode": "text/x-kotlin",
   "nbconvert_exporter": ""
  },
  "ktnbPluginMetadata": {
   "isAddProjectLibrariesToClasspath": false
  }
 },
 "nbformat": 4,
 "nbformat_minor": 0
}
