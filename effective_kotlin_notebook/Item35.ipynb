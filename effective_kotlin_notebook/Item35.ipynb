{
 "cells": [
  {
   "cell_type": "markdown",
   "source": [
    "# Item 35. 복잡한 객체를 생성하기 위한 DSL을 정의하라"
   ],
   "metadata": {
    "collapsed": false
   }
  },
  {
   "cell_type": "markdown",
   "source": [
    "## DSL(Domain-Specific Language)\n",
    "\n",
    "- 특정 문제 도메인에 초점을 맞춰 특정 작업을 수행하기 위한 언어\n",
    "- 코틀린은 DSL을 만들기 위한 강력한 기능을 제공\n",
    "- DSL을 사용하면 복잡한 객체를 생성하거나 구성하는 작업을 단순하게 만들 수 있음\n",
    "- DSL을 사용하면 코드를 읽기 쉽고 유지보수하기 쉽게 만들 수 있음\n",
    "\n",
    "## 언제 DSL을 써야할까?\n",
    "- 복잡한 자료구조 생성\n",
    "- 계층적인 구조\n",
    "- 거대한 양의 데이터 표현\n",
    "\n",
    "> 선언적인 API로 표현하기 적절하다면 DSL 구현을 고려해보자\n",
    "\n",
    "\n",
    "## HTML DSL 예시\n"
   ],
   "metadata": {
    "collapsed": false
   }
  },
  {
   "cell_type": "code",
   "outputs": [],
   "source": [
    "interface TableDsl\n",
    "\n",
    "fun createTable(): TableDsl = table {\n",
    "    tr {\n",
    "        for (i in 1..3){\n",
    "            td {\n",
    "                +\"This is Column $i\"\n",
    "            }\n",
    "        }\n",
    "    }\n",
    "}\n",
    "\n",
    "fun table(init: TableBuilder.() -> Unit): TableBuilder {\n",
    "    return TableBuilder().apply(init)\n",
    "}\n",
    "\n",
    "class TableBuilder : TableDsl{\n",
    "    var trs = mutableListOf<TrBuilder>()\n",
    "    fun tr(init: TrBuilder.() -> Unit) {\n",
    "        trs.add(TrBuilder().apply(init))\n",
    "    }\n",
    "}\n",
    "\n",
    "class TrBuilder : TableDsl{\n",
    "    var tds = mutableListOf<TdBuilder>()\n",
    "    fun td(init: TdBuilder.() -> Unit) {\n",
    "        tds.add(TdBuilder().apply(init))\n",
    "    }\n",
    "}\n",
    "\n",
    "class TdBuilder : TableDsl {\n",
    "    var text = \"\"\n",
    "    \n",
    "    operator fun String.unaryPlus() {\n",
    "        text += this\n",
    "    }\n",
    "}"
   ],
   "metadata": {
    "collapsed": false,
    "ExecuteTime": {
     "end_time": "2024-03-30T10:24:45.010312Z",
     "start_time": "2024-03-30T10:24:44.645880Z"
    }
   },
   "execution_count": 2
  },
  {
   "cell_type": "markdown",
   "source": [],
   "metadata": {
    "collapsed": false
   }
  },
  {
   "cell_type": "markdown",
   "source": [
    "# 실무에서 쓸수 있을까?\n",
    "\n",
    "- 리시버 함수에 대한 이해, 확장함수 방식, 빌더패턴등 다양한 개념을 이해해야함\n",
    "- 코드가 복잡해질수록 유지보수가 어려워질 수 있음\n",
    "- DSL을 사용하면 코드가 간결해지지만, DSL을 이해하고 사용하는데 시간이 걸릴 수 있음\n",
    "- 게다가 컴파일러에게 알려주기위한 여러 어노테이션등도 알아야함\n",
    "- 현실적으로 라이브러리를 만드는게 아니라면 쓰기 어렵지 않을까?"
   ],
   "metadata": {
    "collapsed": false
   }
  },
  {
   "cell_type": "markdown",
   "source": [],
   "metadata": {
    "collapsed": false
   }
  },
  {
   "cell_type": "markdown",
   "source": [],
   "metadata": {
    "collapsed": false
   }
  }
 ],
 "metadata": {
  "kernelspec": {
   "display_name": "Kotlin",
   "language": "kotlin",
   "name": "kotlin"
  },
  "language_info": {
   "name": "kotlin",
   "version": "1.8.20",
   "mimetype": "text/x-kotlin",
   "file_extension": ".kt",
   "pygments_lexer": "kotlin",
   "codemirror_mode": "text/x-kotlin",
   "nbconvert_exporter": ""
  },
  "ktnbPluginMetadata": {
   "projectLibraries": []
  }
 },
 "nbformat": 4,
 "nbformat_minor": 0
}
