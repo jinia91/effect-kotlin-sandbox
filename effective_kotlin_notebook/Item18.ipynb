{
 "cells": [
  {
   "cell_type": "markdown",
   "source": [
    "# Item 18. 코딩컨벤션을 지켜라"
   ],
   "metadata": {
    "collapsed": false
   }
  },
  {
   "cell_type": "markdown",
   "source": [
    "- jetbrain 컨벤션 : https://kotlinlang.org/docs/coding-conventions.html#class-headers\n",
    "- klint : org.jmailen.gradle:kotlinter-gradle 등\n"
   ],
   "metadata": {
    "collapsed": false
   }
  }
 ],
 "metadata": {
  "kernelspec": {
   "display_name": "Kotlin",
   "language": "kotlin",
   "name": "kotlin"
  },
  "language_info": {
   "name": "kotlin",
   "version": "1.8.20",
   "mimetype": "text/x-kotlin",
   "file_extension": ".kt",
   "pygments_lexer": "kotlin",
   "codemirror_mode": "text/x-kotlin",
   "nbconvert_exporter": ""
  },
  "ktnbPluginMetadata": {
   "isAddProjectLibrariesToClasspath": false
  }
 },
 "nbformat": 4,
 "nbformat_minor": 0
}
