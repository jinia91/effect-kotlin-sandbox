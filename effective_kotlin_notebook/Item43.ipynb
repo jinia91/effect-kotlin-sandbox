{
 "cells": [
  {
   "cell_type": "markdown",
   "source": [
    "# Item 42. API의 필수적이지 않는 부분을 확장함수로 추출하라\n",
    "\n",
    "## 코틀린의 확장함수\n",
    "- 코틀린에서는 기존 클래스의 멤버 메서드를 수정하지 않고도 새로운 메서드를 추가할 수 있음\n",
    "\n",
    "## 확장함수의 동작원리"
   ],
   "metadata": {
    "collapsed": false
   }
  },
  {
   "cell_type": "code",
   "outputs": [],
   "source": [
    "class WorkShop {\n",
    "    fun doWork() {\n",
    "        println(\"WorkShop doWork\")\n",
    "    }\n",
    "}\n",
    "\n",
    "fun WorkShop.doWorkTwice() {\n",
    "    doWork()\n",
    "    doWork()\n",
    "}\n",
    "\n",
    "val workShop = WorkShop()\n",
    "workShop.doWorkTwice()\n",
    "\n"
   ],
   "metadata": {
    "collapsed": false
   }
  },
  {
   "cell_type": "markdown",
   "source": [
    "위의 코드를 바이트코드로 바꿔보면\n",
    "```java\n",
    "public static final void doWorkTwice(@NotNull WorkShop $this$doWorkTwice) {\n",
    "      Intrinsics.checkNotNullParameter($this$doWorkTwice, \"$this$doWorkTwice\");\n",
    "      $this$doWorkTwice.doWork();\n",
    "      $this$doWorkTwice.doWork();\n",
    "   }\n",
    "\n",
    "   public static final void main() {\n",
    "      WorkShop workShop = new WorkShop();\n",
    "      doWorkTwice(workShop);\n",
    "   }\n",
    "```\n",
    "\n",
    "이처럼 확장함수는 정적 메서드로 변환되며, 첫 번째 인자로 수신 객체를 받아 사용하게된다.\n",
    "\n",
    "\n",
    "## 확장함수 특징들\n",
    "\n",
    "### 멤버 메서드와 확장함수의 우선순위\n",
    " 상속되는 구체 클래스와 시그니처가 동일하다면 상속된 메서드가 확장함수보다 우선순위가 높고, 확장함수는 기존 메서드를 오버라이드 할 수 없다."
   ],
   "metadata": {
    "collapsed": false
   }
  },
  {
   "cell_type": "code",
   "outputs": [],
   "source": [
    "abstract class WorkShop(val a: Int = 0, val b: Int = 0) {\n",
    "    open fun doWork() {\n",
    "        println(\"WorkShop doWork\")\n",
    "    }\n",
    "\n",
    "    abstract fun doWorkTwice()\n",
    "}\n",
    "\n",
    "\n",
    "class WorkShop2 : WorkShop() {\n",
    "    override fun doWorkTwice() {\n",
    "        println(\"WorkShop2 doWork2\")\n",
    "    }\n",
    "}\n",
    "\n",
    "fun WorkShop2.doWorkTwice() {\n",
    "    doWork()\n",
    "    doWork()\n",
    "}\n",
    "\n",
    "fun WorkShop.doWork() {\n",
    "    println(\"WorkShop doWork\")\n",
    "}\n",
    "\n",
    "\n",
    "fun main() {\n",
    "    val workShop = WorkShop2()\n",
    "    workShop.doWorkTwice()\n",
    "    workShop.doWork()\n",
    "}"
   ],
   "metadata": {
    "collapsed": false,
    "ExecuteTime": {
     "end_time": "2024-04-12T13:42:20.585190Z",
     "start_time": "2024-04-12T13:42:20.293995Z"
    }
   },
   "execution_count": 1
  },
  {
   "cell_type": "markdown",
   "source": [
    "### 확장함수는 클래스가 아니라 타입에 정의하는 것\n",
    "- nullable, 구체적 제네릭 타입에도 확장함수는 정의할 수 있다.\n",
    "\n",
    "### 그외 정리들\n",
    "- 확장함수는 import를 필요로한다\n",
    "- 확장함수는 virtual이 아니므로, 동적 디스패치가 일어나지 않는다.\n",
    "- 확장함수는 수신 객체의 private 멤버에 접근할 수 없다.\n",
    "- 확장함수는 오버라이드할 수 없으며 member가 더 우선순위를 가진다.\n",
    "- 확장함수는 클래스가 아니라 타입에 정의하는 것이다.\n",
    "- 확장함수는 클래스 레퍼런스에 나오지 않는다.\n",
    "\n",
    "## 실무에서 어떨때 쓸까?\n",
    "- 일반적으로 가독성을 위해 리시버를 반대로 둘때 자주 사용한다.\n",
    "- 하지만 지나친 확장함수 정의는 응집도를 낮추고, 코드를 이해하기 어렵게 만든다.\n",
    "- 메서드의 위치를 정하는 기본적인 대원칙은 캡슐화, 응집도, 의존성의 방향이며 이를 준수하는 기본함수를 만들고 필요시에 확장함수로 한번더 래핑하는것이 바람직하다\n",
    "- 확장함수는 기본적으로 가독성을 위해 사용되어야 하며, 필요시에만 사용해야한다고 생각한다. 또한 이를 멤버 메서드와는 명확히 구분지어 생각하는것이 설계시 인지 부하를 줄일 수 있다."
   ],
   "metadata": {
    "collapsed": false
   }
  }
 ],
 "metadata": {
  "kernelspec": {
   "display_name": "Kotlin",
   "language": "kotlin",
   "name": "kotlin"
  },
  "language_info": {
   "name": "kotlin",
   "version": "1.8.20",
   "mimetype": "text/x-kotlin",
   "file_extension": ".kt",
   "pygments_lexer": "kotlin",
   "codemirror_mode": "text/x-kotlin",
   "nbconvert_exporter": ""
  },
  "ktnbPluginMetadata": {
   "projectLibraries": []
  }
 },
 "nbformat": 4,
 "nbformat_minor": 0
}
