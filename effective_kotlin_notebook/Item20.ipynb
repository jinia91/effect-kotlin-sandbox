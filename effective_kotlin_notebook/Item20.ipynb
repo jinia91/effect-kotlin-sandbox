{
 "cells": [
  {
   "cell_type": "markdown",
   "source": [
    "# Item 20. 일반적인 알고리즘을 반복해서 구현하지 말라"
   ],
   "metadata": {
    "collapsed": false
   }
  },
  {
   "cell_type": "markdown",
   "source": [
    "## knowledge?\n",
    "\n",
    "프로그래밍에서 알려진 지식(knowledge)란 크게 비즈니스 로직과 일반적인 알고리즘 으로 구분된다.\n",
    "\n",
    "여기서 '일반적인 알고리즘(common algorithm)' 이란 변경될 여지가 적은(혹은 없는) 수학적인 연산, 수집처리, 잘 알려진 정렬 알고리즘 등등을 의미한다.\n",
    "\n",
    "이러한 알고리즘을 반복해서 구현하여 중복을 만드는 일은 없어야한다.\n",
    "\n"
   ],
   "metadata": {
    "collapsed": false
   }
  },
  {
   "cell_type": "markdown",
   "source": [
    "## 표준라이브러리\n",
    "\n",
    "코틀린의 표준 라이브러리는 기본적인 자바의 표준 라이브러리 기능들 이외도, 자바 아파치 common이나 구아바 라이브러리 등에서 제공하는 다양한 공통 알고리즘들도 다 제공하는 편이다.\n",
    "\n",
    "워낙 방대하다보니 모두 알수는 없지만, 데이터를 처리하려할때 한번쯤 표준라이브러리로 구현되지는 않았는지 확인해보자\n",
    "\n",
    "    toSortedSet() : 컬렉션의 요소를 정렬된 순서로 유지하면서 Set으로 변환합니다.\n",
    "    withIndex() : 컬렉션의 요소와 인덱스를 쌍으로 제공하는 Iterator를 반환합니다.\n",
    "    associateBy() : 컬렉션의 요소를 주어진 키 추출 람다 함수를 기반으로 맵으로 변환합니다.\n",
    "    groupBy() : 컬렉션의 요소를 주어진 키 추출 람다 함수에 따라 그룹화하여 맵으로 변환합니다.\n",
    "    zip() : 두 개의 컬렉션을 조합하여 쌍으로 이루어진 리스트를 생성합니다.\n",
    "    takeWhile() : 조건을 만족하는 동안의 요소들을 추출하여 새로운 리스트를 생성합니다.\n",
    "    dropWhile() : 조건을 만족하는 동안의 요소들을 건너뛴 후 나머지 요소들로 새로운 리스트를 생성합니다.\n",
    "    requireNotNull() : 값이 널이 아님을 보장하며, 널인 경우 예외를 던집니다.\n",
    "    getOrElse() : 인덱스나 키로 요소를 접근할 때, 해당 요소가 없을 경우 기본값을 반환합니다.\n",
    "    distinctBy() : 주어진 키 추출 람다 함수에 의해 생성된 키를 기준으로 중복 요소를 제거합니다."
   ],
   "metadata": {
    "collapsed": false
   }
  },
  {
   "cell_type": "markdown",
   "source": [
    "## 나만의 유틸리티 (라이브러리) 구현하기\n",
    "\n",
    "표준라이브러리에 없지만 일반적으로 사용될 함수라면 모듈단위 유틸함수로 정의하도록하자\n",
    "\n",
    "이때 구현 방법은 확장함수를 추천하는 편\n",
    "\n",
    "- 톱레벨 함수는 너무 범용적이고, 표현력(가독성)에 있어서, 상태 변경하려는 객체를 아규먼트로 받기보단 리시버로 표현하는 방식이 보다 좋기때문\n",
    "- 자동완성의 도움을 받을때도 유용\n",
    "  - 다만 oop적으로 해석하지 말자. 어디까지나 표현만 바뀐것일 뿐\n"
   ],
   "metadata": {
    "collapsed": false
   }
  }
 ],
 "metadata": {
  "kernelspec": {
   "display_name": "Kotlin",
   "language": "kotlin",
   "name": "kotlin"
  },
  "language_info": {
   "name": "kotlin",
   "version": "1.8.20",
   "mimetype": "text/x-kotlin",
   "file_extension": ".kt",
   "pygments_lexer": "kotlin",
   "codemirror_mode": "text/x-kotlin",
   "nbconvert_exporter": ""
  },
  "ktnbPluginMetadata": {
   "isAddProjectLibrariesToClasspath": false
  }
 },
 "nbformat": 4,
 "nbformat_minor": 0
}
