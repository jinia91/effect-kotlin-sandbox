{
 "cells": [
  {
   "cell_type": "markdown",
   "source": [
    "# Item 33. 생성자 대신 팩토리 함수를 사용하라"
   ],
   "metadata": {
    "collapsed": false
   }
  },
  {
   "cell_type": "markdown",
   "source": [
    "# 간략 문법 정리\n",
    "## Inline 함수\n",
    "- Inline Class(Value Class)와 비슷한 뉘앙스로 코틀린 컴파일러가 흑마법을 부려 해당 코드 조각을 사용하는 곳에 직접 넣어 함수 호출 오버헤드를 줄이는 방식\n",
    "- 고차 함수\n",
    "- \n",
    "\n",
    "## Reified 타입 파라미터\n",
    "\n",
    "- Jvm 언어의 제네릭정보는 기본적으로 런타임 시점에 지워진다.\n",
    "- 하지만 Inlline과 reified를 함께쓰면 이 제약 우회가 가능\n",
    "- \n",
    "\n",
    "```kotlin\n",
    "inline fun <reified T> getType(): T? {\n",
    "    return when (T::class) {\n",
    "        String::class -> \"This is a string\" as T\n",
    "        Int::class -> Integer.valueOf(42) as T\n",
    "        else -> null\n",
    "    }\n",
    "}\n",
    "\n",
    "```\n",
    "\n",
    "![uploaded image](https://github.com/jinia91/blogBackUp/blob/main/img/236997827964960?raw=true)\n",
    "\n",
    "컴파일러가 코드 스냅셋을 인라인시키면서 제네릭 T의 실제 타입을 바이트코드 레벨로 남겨버림으로서 함수 내에서 T 타입에 접근 가능해진다.\n",
    "reified가 없다면 불가능!\n",
    "\n",
    "# 팩토리 메서드를 쓰는 이유?\n",
    "\n",
    "- 생성자와 달리 이름을 가질 수 있다.\n",
    "- 원하는 타입을 호출할 수 있어, 다양한 하위 구현체를 인터페이스 뒤로 숨기며 생성할 수 있다.\n",
    "- 생성자와 달리 호출될 때마다 새로운 객체를 생성할 필요가 없다. INSTANCE 등\n",
    "- 톱레벨 함수로 구현할 경우 인라인, refied를 사용할 수 있다.\n",
    "\n",
    "# 기본 생성자는 어떻게할까?\n",
    "- 자바를 객체지향적으로 쓰려면 기본생성자를 모두 막고 팩토리 메서드로만 쓰기도 한다\n",
    "- kotlin의 경우 기본생성자를 막는 방식은 주로 쓰이지 않는다. 매핑 자유도를 위해서라도 결국 열어야할까? 항상 고민되는 부분\n",
    "\n",
    "# 팩토리 메서드 스테레오 타입\n",
    "\n",
    "- from : 파라미터 하나만 받는경우\n",
    "- of : 여러개의 파라미터를 받는경우\n",
    "- valueOf : from, of와 비슷\n",
    "- getInstance : 인스턴스를 반환하지만, 같은 파라미터로 여러번 호출해도 같은 객체를 반환하는 경우\n",
    "- create, newInstance : 새로운 인스턴스를 생성하는 경우\n",
    "\n",
    "# 코틀린에서 팩토리 메서드 구현하는 방법\n",
    "\n",
    "## Companion Object\n",
    "\n",
    "- 자바의 static 메서드와 비슷한 역할을 하는 객체\n",
    "- 하지만 companion 은 상속을 받을 수 있고, 인터페이스를 구현할 수 있다.\n",
    "- 다양한 기능도 고려해보자\n",
    "- 가장 많이 쓰이는 패턴\n",
    "\n",
    "## 확장 팩토리 함수\n",
    "- companion 객체를 직접 수정할 수 없는 상황일때\n",
    "- 확장함수로 팩토리 메서드를 구현할 수 있다.\n",
    "\n",
    "## 톱레벨 함수\n",
    "- 전역 선언이므로 사용하지 말자\n",
    "\n",
    "## 가짜 생성자\n",
    "\n"
   ],
   "metadata": {
    "collapsed": false
   }
  },
  {
   "cell_type": "markdown",
   "source": [],
   "metadata": {
    "collapsed": false
   }
  },
  {
   "cell_type": "markdown",
   "source": [],
   "metadata": {
    "collapsed": false
   }
  },
  {
   "cell_type": "code",
   "outputs": [],
   "source": [
    "class A\n",
    "val a = A()\n",
    "val reference : () -> A = ::A // 이게 되네"
   ],
   "metadata": {
    "collapsed": false
   }
  },
  {
   "cell_type": "markdown",
   "source": [
    "잘 사용하지 않는 방식이지만 알아는 두자\n",
    "\n",
    "## 팩토리 클래스 별도로 만들기\n",
    "\n",
    "- 다양한 객체 생성 디자인패턴을 사용해 팩토리 클래스를 별도로 만들수 있음\n",
    "- 하지만 빌더패턴의경우 named parameter와 default argument를 지원하는 코틀린에서는 딱히 필요하지 않는다."
   ],
   "metadata": {
    "collapsed": false
   }
  }
 ],
 "metadata": {
  "kernelspec": {
   "display_name": "Kotlin",
   "language": "kotlin",
   "name": "kotlin"
  },
  "language_info": {
   "name": "kotlin",
   "version": "1.8.20",
   "mimetype": "text/x-kotlin",
   "file_extension": ".kt",
   "pygments_lexer": "kotlin",
   "codemirror_mode": "text/x-kotlin",
   "nbconvert_exporter": ""
  },
  "ktnbPluginMetadata": {
   "projectLibraries": []
  }
 },
 "nbformat": 4,
 "nbformat_minor": 0
}
