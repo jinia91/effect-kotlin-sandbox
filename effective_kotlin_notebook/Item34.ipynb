{
 "cells": [
  {
   "cell_type": "markdown",
   "source": [
    "# Item 34. 기본 생성자에 이름 있는 옵션 아규먼트를 사용하라"
   ],
   "metadata": {
    "collapsed": false
   }
  },
  {
   "cell_type": "markdown",
   "source": [
    "## 유연한 객체 생성을 위한 여러가지 패턴들\n",
    "### 점층적 생성자 패턴\n",
    "- 생성자에 필요한 매개변수를 하나씩 추가해가는 방식"
   ],
   "metadata": {
    "collapsed": false
   }
  },
  {
   "cell_type": "code",
   "outputs": [],
   "source": [
    "class Data(\n",
    "    val a : Int, \n",
    "    val b : Int, \n",
    "    val c : Int, \n",
    "    val d : Int, \n",
    "    val e : Int\n",
    "){\n",
    "    constructor(a : Int, b : Int, c : Int, d : Int) : this(a, b, c, d, 0)\n",
    "    constructor(a : Int, b : Int, c : Int) : this(a, b, c, 0, 0)\n",
    "    constructor(a : Int, b : Int) : this(a, b, 0, 0, 0)\n",
    "    constructor(a : Int) : this(a, 0, 0, 0, 0)\n",
    "}"
   ],
   "metadata": {
    "collapsed": false
   }
  },
  {
   "cell_type": "markdown",
   "source": [
    "자바였다면 위처럼 여러 생성자를 만들어야했지만 코틀린은 default argument를 지원하기 때문에 아래와 같이 간단하게 만들수 있다."
   ],
   "metadata": {
    "collapsed": false
   }
  },
  {
   "cell_type": "code",
   "outputs": [],
   "source": [
    "class DataKotlin(\n",
    "    val a : Int = 0, \n",
    "    val b : Int = 0, \n",
    "    val c : Int = 0, \n",
    "    val d : Int = 0, \n",
    "    val e : Int = 0\n",
    ")"
   ],
   "metadata": {
    "collapsed": false
   }
  },
  {
   "cell_type": "markdown",
   "source": [
    "### 빌더 패턴\n",
    "\n",
    "- 파라미터에 이름을 붙일수 있다.\n",
    "- 파라미터를 원하는 순서로 지정할 수 있다\n",
    "- 디폴트 값을 지정할 수 있다\n",
    "\n",
    "- 하지만 빌더패턴을 만드는 코드 자체가 복잡함.\n",
    "- 물론 롬복을 쓰면 되긴하다 \n",
    "\n",
    "코틀린의 경우 named parameter와 default argument를 지원하기 때문에 빌더패턴을 사용할 필요가 없다.\n",
    "\n",
    "### 코틀린 named parameter와 default argument vs 빌더패턴\n",
    "\n",
    "- 사용 난이도, 구현 난이도, 명확성에서 named parameter와 default argument가 더 좋다\n",
    "- 동시성 관련 문제도 생기지 않음\n",
    "- 다만 생성시 값의 의미를 묶어서 지정하는 방식등은 빌더패턴이 더 좋을수도 있다.\n",
    "- 코틀린의 경우는 위의 문제를 DSL로 풀어내길 권장"
   ],
   "metadata": {
    "collapsed": false
   }
  },
  {
   "cell_type": "markdown",
   "source": [],
   "metadata": {
    "collapsed": false
   }
  }
 ],
 "metadata": {
  "kernelspec": {
   "display_name": "Kotlin",
   "language": "kotlin",
   "name": "kotlin"
  },
  "language_info": {
   "name": "kotlin",
   "version": "1.8.20",
   "mimetype": "text/x-kotlin",
   "file_extension": ".kt",
   "pygments_lexer": "kotlin",
   "codemirror_mode": "text/x-kotlin",
   "nbconvert_exporter": ""
  },
  "ktnbPluginMetadata": {
   "projectLibraries": []
  }
 },
 "nbformat": 4,
 "nbformat_minor": 0
}
