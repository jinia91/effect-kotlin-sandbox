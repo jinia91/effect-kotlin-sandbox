{
 "cells": [
  {
   "cell_type": "markdown",
   "source": [
    "# Item 07. 결과 부족이 발생할 경우 null과 Failure를 사용하라"
   ],
   "metadata": {
    "collapsed": false
   }
  },
  {
   "cell_type": "markdown",
   "source": [
    "## 코틀린은 CheckedException이 존재하지 않는다.\n",
    "\n",
    "- CheckedException은 코드를 더 복잡하게 만들고 개발자의 불필요한 수고를 늘린다는 전제로 코틀린은 자바와 달리 CheckedException이 존재하지 않음\n",
    "- 하지만 비즈니스 로직을 작성하다보면 특정 메서드는 커스텀한 비즈니스 예외를 던질것이라고 알려줘야하고, 이 함수를 사용하는 개발자도 이를 알아야할 필요성이 존재하는 경우가 많다.\n",
    "- 이때, @Throws 어노테이션으로 알릴수도 있지만, 이방식은 문서화에 가까우면 컴파일러 차원에서 도움을 받지 못함\n",
    "\n",
    "> 코틀린쓰면서 강제성있는 에러핸들링이 뭔가 아쉽다고 느껴짐!\n",
    "\n",
    "## 예외가 정보를 전달하거나 코드의 제어흐름을 관리하는데 쓰이는것은 바람직하지 않다.\n",
    "\n",
    "- 예외가 전파되는 과정을 추적하기는 쉽지 않음\n",
    "- 예외는 컴파일러 최적화를 방해함\n",
    "- 비즈니스의 제어를 할때는 예외보다는 null이나 Result 객체를 사용하는것이 좀더 바람직\n",
    "- 예외적인 상황에만 예외를 던지도록하자\n",
    "\n",
    "## 소결: 사용자의 입장에서 신경써야할 코드보다는 사용자입장의 코드까지 작성해 노출시키는것이 더 바람직\n"
   ],
   "metadata": {
    "collapsed": false
   }
  },
  {
   "cell_type": "code",
   "execution_count": 0,
   "outputs": [],
   "source": [
    "import java.lang.IllegalArgumentException\n",
    "\n",
    "// 앞으로 이 코드를 사용하는 사용자는 항상 예외 핸들링을 신경써야함!\n",
    "class Service {\n",
    "    fun process(input: String) {\n",
    "        require(input.isNotBlank()){\"invalid input!\"}\n",
    "        println(\"do process\")\n",
    "    }\n",
    "}\n",
    "\n",
    "fun clientCode() {\n",
    "    val service = Service()\n",
    "    runCatching {\n",
    "        service.process(\"\")\n",
    "    }.getOrElse {\n",
    "        throw IllegalArgumentException(\"fail\")\n",
    "    }\n",
    "}\n",
    "\n",
    "clientCode()"
   ],
   "metadata": {
    "collapsed": false,
    "ExecuteTime": {
     "start_time": "2023-06-05T14:34:50.931721Z",
     "end_time": "2023-06-05T14:34:51.020707Z"
    }
   }
  },
  {
   "cell_type": "code",
   "execution_count": 0,
   "outputs": [],
   "source": [
    "// Result로 반환한다면?\n",
    "class Service {\n",
    "    fun process(input: String): Result<Unit> {\n",
    "        require(input.isNotBlank()) { \"invalid input!\" }\n",
    "        println(\"do process\")\n",
    "    }\n",
    "}\n",
    "\n",
    "fun clientCode() {\n",
    "    val service = Service()\n",
    "    service.process(\"\")\n",
    "        .onSuccess { it }\n",
    "        .onFailure { throw it }\n",
    "}\n",
    "\n",
    "clientCode()"
   ],
   "metadata": {
    "collapsed": false
   }
  },
  {
   "cell_type": "markdown",
   "source": [
    "- Result 객체나 Null을 사용하면 최소한 비정상적인 결과값이 나올수 있다는 api 스펙을 CheckedException 처럼 간접적으로 알릴수 있음\n",
    "- 해당 코드를 사용하는 입장에서 좀더 안전한 사용이 가능\n",
    "\n",
    "하지만 정확히 어떤 에러를 던질지에 대한 컴파일러 체크는 불가능...\n",
    "\n",
    "\n",
    "## 실무적으로 써먹을만한 컨벤션을 고민하자면...?\n",
    "\n",
    "비즈니스 로직의 단위인 usecase는 반드시 Result를 반환하고, 해당 유즈케이스에 쓰이는, 혹은 해당 도메인에 쓰이는 상위 비즈니스 예외를 when으로 핸들링하게끔 컨벤션을 하면 Checked Ex같은 효과를 낼수는 있다.\n",
    "\n",
    "하지만 이도 결국 해당 메서드에서 나올 정확한 예외들을 컴파일러가 가르키는방식은 아니고 간접적인 방식이라는 한계가 존재...\n",
    "\n",
    "그래도 유즈케이스의 리턴을 무조건 Result로 내보내는것은 고려해볼만하다.\n",
    "\n",
    "사용하는 어댑터쪽에서는 fold로 항상 에러핸들링하기!\n"
   ],
   "metadata": {
    "collapsed": false
   }
  }
 ],
 "metadata": {
  "kernelspec": {
   "display_name": "Kotlin",
   "language": "kotlin",
   "name": "kotlin"
  },
  "language_info": {
   "name": "kotlin",
   "version": "1.8.0",
   "mimetype": "text/x-kotlin",
   "file_extension": ".kt",
   "pygments_lexer": "kotlin",
   "codemirror_mode": "text/x-kotlin",
   "nbconvert_exporter": ""
  }
 },
 "nbformat": 4,
 "nbformat_minor": 0
}
