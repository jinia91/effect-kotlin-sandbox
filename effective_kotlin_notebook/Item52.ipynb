{
 "cells": [
  {
   "cell_type": "markdown",
   "source": [
    "# Item 52. mutable collection 사용을 고려하라\n",
    "\n",
    "## Immutable vs Mutable\n",
    "\n",
    "- mutable은 요소 추가 삭제시 성능면에서 우월하다. immutable 컬렉션은 요소 추가 삭제시 매번 컬렉션 재생성이 일어나야 한다\n",
    "- 대신 유지보수, 안정성 관점에서 불변성은 언제나 옳다.\n",
    "- 하지만 지역변수로 list를 사용하는경우라면? 이러한 list가 반환되지않고 사라진다면 불변객체를 쓸이유는 없어진다. 특히 서버사이드라면 더더욱 경쟁관계가 생기지 않으므로 문제되지않는다.\n",
    "- 표준라이브러리도 로컬스코프에만 소모되는 리스트 사용시엔 mutable 컬렉션을 사용한다.(map)"
   ],
   "metadata": {
    "collapsed": false
   }
  },
  {
   "cell_type": "code",
   "outputs": [],
   "source": [],
   "metadata": {
    "collapsed": false
   },
   "execution_count": null
  },
  {
   "cell_type": "markdown",
   "source": [],
   "metadata": {
    "collapsed": false
   }
  },
  {
   "cell_type": "code",
   "outputs": [],
   "source": [],
   "metadata": {
    "collapsed": false
   }
  },
  {
   "cell_type": "markdown",
   "source": [],
   "metadata": {
    "collapsed": false
   }
  },
  {
   "cell_type": "markdown",
   "source": [],
   "metadata": {
    "collapsed": false
   }
  },
  {
   "cell_type": "markdown",
   "source": [],
   "metadata": {
    "collapsed": false
   }
  }
 ],
 "metadata": {
  "kernelspec": {
   "display_name": "Kotlin",
   "language": "kotlin",
   "name": "kotlin"
  },
  "language_info": {
   "name": "kotlin",
   "version": "1.8.20",
   "mimetype": "text/x-kotlin",
   "file_extension": ".kt",
   "pygments_lexer": "kotlin",
   "codemirror_mode": "text/x-kotlin",
   "nbconvert_exporter": ""
  },
  "ktnbPluginMetadata": {
   "projectLibraries": []
  }
 },
 "nbformat": 4,
 "nbformat_minor": 0
}
