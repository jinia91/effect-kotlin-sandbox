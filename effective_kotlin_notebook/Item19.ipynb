{
 "cells": [
  {
   "cell_type": "markdown",
   "source": [
    "# Item 19. knowledge 를 반복하여 사용하지 말라(CC. 진짜 중복만 추출해라)"
   ],
   "metadata": {
    "collapsed": false
   }
  },
  {
   "cell_type": "markdown",
   "source": [
    "## DRY\n",
    "\n",
    "> Don't Repeat Yourself\n",
    "> - 실용주의 프로그래머\n",
    "\n",
    "프로그래밍 세계에서 중복은 가장 큰 해악이다. 특정 지식이 표현된 코드가 중복되어 산재되어있고, 해당 지식이 변경되었을때 모든 코드들을 찾아 수정하는일은 전통적으로 매우 어렵고 버그를 유발하기 쉬운 일이였다.\n",
    "\n",
    "이러한 사실을 알고있던 과거 개발자들은 DRY, WET 법칙 등등을 말하며 중복된 로직을 눈에 불을켜고 없애려했다.\n",
    "\n",
    "또 일반적으로 개발자는 코드에서 중복을 발견할때 이를 줄임으로서 보다 나은 코딩을 했다는 쾌감을 느끼기 때문에 더욱 적극적으로 중복 제거하려한다.\n",
    "\n",
    "하지만 이러한 중복 제거행위가 지나치게 남용되거나 오용되면 유지보수하기 더 어렵고, 가독성을 해치며 SRP를 위반하는 코드를 만들게 된다.\n",
    "\n",
    "개인적으로는 진짜 중복만 제거하는 코딩이 더 바람직하다고 생각한다.\n",
    "\n",
    "\n",
    "## SRP\n",
    "\n",
    "- 로버트 마틴이 주창한 SOLID의 Single Responsibility 원칙은 코드의 변경 유발자(actor)가 한명이여아함을 의미한다.\n",
    "\n",
    "만약 어떠한 코드를 여러 액터가 사용중이라면 최초에는 괜찮지만, 장기적으론 특정 액터 하나에 의해 코드가 if else로 오염되어버릴 위험이 존재한다.\n",
    "\n",
    "따라서 코드의 변경 사유는 하나로 유지되는것이 바람직하다.\n",
    "\n",
    "## 진짜 중복 가짜 중복\n",
    "\n",
    "- 중복이 진짜 중복이라면 문제가 없다. 하지만 가짜 중복은 추출하려 하지 마라!\n",
    "\n",
    "가짜 중복이란 서로 다른 액터에 의해 작성되고 사용되는 비슷한(혹은 같은) 코드를 의미한다.\n",
    "\n",
    "이는 결국 서로 다른 속도로 발전하고 변경되기떄문에 결국 전혀 다른 코드가 될 확률이 높다. 이를 초기에 중복으로 간주하여 합치는 행위는 장기적으로 유지보수를 떨어뜨리는 문제를 발생시킨다."
   ],
   "metadata": {
    "collapsed": false
   }
  }
 ],
 "metadata": {
  "kernelspec": {
   "display_name": "Kotlin",
   "language": "kotlin",
   "name": "kotlin"
  },
  "language_info": {
   "name": "kotlin",
   "version": "1.8.20",
   "mimetype": "text/x-kotlin",
   "file_extension": ".kt",
   "pygments_lexer": "kotlin",
   "codemirror_mode": "text/x-kotlin",
   "nbconvert_exporter": ""
  },
  "ktnbPluginMetadata": {
   "isAddProjectLibrariesToClasspath": false
  }
 },
 "nbformat": 4,
 "nbformat_minor": 0
}
