{
 "cells": [
  {
   "cell_type": "markdown",
   "source": [
    "# Item 26. 함수 내부의 추상화 레벨을 통일하라"
   ],
   "metadata": {
    "collapsed": false
   }
  },
  {
   "cell_type": "markdown",
   "source": [
    "\n",
    "## 추상화 레벨?\n",
    "- 추상화란 구체적인 것에서 핵심만을 간추려내는 것\n",
    "- 구체적인것은 상대적인 개념이므로, 추상화에도 그 정도(level)이 존재한다.\n",
    "\n",
    "![](https://www.google.com/url?sa=i&url=https%3A%2F%2Fvelog.io%2F%40vov3616%2FEffective-Kotlin-%25EC%2595%2584%25EC%259D%25B4%25ED%2585%259C26.-%25ED%2595%25A8%25EC%2588%2598-%25EB%2582%25B4%25EB%25B6%2580%25EC%259D%2598-%25EC%25B6%2594%25EC%2583%2581%25ED%2599%2594-%25EB%25A0%2588%25EB%25B2%25A8%25EC%259D%2584-%25ED%2586%25B5%25EC%259D%25BC-%25ED%2595%2598%25EB%259D%25BC&psig=AOvVaw1o5Va2E_jrjxetI7_wAKhI&ust=1695476437220000&source=images&cd=vfe&opi=89978449&ved=0CBAQjRxqFwoTCKDumYmsvoEDFQAAAAAdAAAAABAD)\n",
    "\n",
    "- 추상화정도가 높음 : 애플리케이션\n",
    "- 추상화정도가 낮음 : 물리장치\n",
    "\n",
    "- 이 논리로 도메인레이어가 추상화정도가 가장 높고 어댑터나 프레임워크 레이어가 추상화정도가 낮다고 표현할 수 있다.\n",
    "\n",
    "## 코드에서의 추상화 레벨을 통일해라 (Single Level Of Abstraction, SLA)\n",
    "\n",
    "- 레이어수준, 모듈수준이 아니라 미시적으로 함수단위(혹은 코드단위)에서도 추상화 레벨이라는 개념을 적용할 수 있다.\n"
   ],
   "metadata": {
    "collapsed": false
   }
  },
  {
   "cell_type": "code",
   "execution_count": 2,
   "outputs": [],
   "source": [
    "// 절차식으로 단순하게 작성한 코드\n",
    "class CoffeeMachine {\n",
    "    fun makeCoffee() {\n",
    "        // ...\n",
    "    }\n",
    "}\n",
    "\n",
    "// 함수 계층 분리\n",
    "class CoffeeMachine2 {\n",
    "    fun makeCoffe() {\n",
    "        boilWater()\n",
    "        brewCoffee()\n",
    "        pourCoffee()\n",
    "        pourMilk()\n",
    "    }\n",
    "\n",
    "    fun boilWater() {\n",
    "\n",
    "    }\n",
    "    fun brewCoffee() {\n",
    "\n",
    "    }\n",
    "    fun pourCoffee(){\n",
    "\n",
    "    }\n",
    "    fun pourMilk(){\n",
    "\n",
    "    }\n",
    "}"
   ],
   "metadata": {
    "collapsed": false,
    "ExecuteTime": {
     "end_time": "2023-09-22T14:02:10.525317Z",
     "start_time": "2023-09-22T14:02:10.457303Z"
    }
   }
  },
  {
   "cell_type": "code",
   "execution_count": null,
   "outputs": [],
   "source": [],
   "metadata": {
    "collapsed": false
   }
  },
  {
   "cell_type": "markdown",
   "source": [
    "## 간접 계층 추상화의 양면성\n",
    "\n",
    "> All problems in Computer Science can be solved by another level of indirection.\n",
    ">\n",
    "> But that usually will create another problem\n",
    ">\n",
    "> - by david Wheeler\n",
    ">\n",
    "> 전산학의 모든 문제는 또 다른 수준의 간접층으로 해결할 수 있다.\n",
    ">\n",
    "> 하지만 그러면 또다른 문제가 생는것이 일반적이다.\n",
    ">\n",
    "\n",
    "추상화는 플랫폼과 기술의 독립성을 얻게 하지만, 일정 수준 이상의 간접계층 증가는 시스템 전체의 복잡도를 증가시킬수도 있다."
   ],
   "metadata": {
    "collapsed": false
   }
  }
 ],
 "metadata": {
  "kernelspec": {
   "display_name": "Kotlin",
   "language": "kotlin",
   "name": "kotlin"
  },
  "language_info": {
   "name": "kotlin",
   "version": "1.8.20",
   "mimetype": "text/x-kotlin",
   "file_extension": ".kt",
   "pygments_lexer": "kotlin",
   "codemirror_mode": "text/x-kotlin",
   "nbconvert_exporter": ""
  },
  "ktnbPluginMetadata": {
   "isAddProjectLibrariesToClasspath": false
  }
 },
 "nbformat": 4,
 "nbformat_minor": 0
}
