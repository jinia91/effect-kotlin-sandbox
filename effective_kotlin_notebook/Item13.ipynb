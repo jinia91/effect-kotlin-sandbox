{
 "cells": [
  {
   "cell_type": "markdown",
   "source": [
    "# Item 13. Unit? 을 리턴하지 말라"
   ],
   "metadata": {
    "collapsed": false
   }
  },
  {
   "cell_type": "markdown",
   "source": [
    "## Unit?\n",
    "- kotlin의 unit은 자바 void 개념으로 반환값이 없다는 의미다. null이랑은 다름\n",
    "- 하지만 unit?은 return으로 null을 반환할수도 있다는 의미\n",
    "\n",
    "## 쓰지마\n",
    "- unit은 성공, null은 실패라던지 의미를 부여할수는 있다.\n",
    "- 하지만 이해하기 어려우며 불필요한 테크닉\n",
    "- 차라리 if-else를 써라\n"
   ],
   "metadata": {
    "collapsed": false
   }
  }
 ],
 "metadata": {
  "kernelspec": {
   "display_name": "Kotlin",
   "language": "kotlin",
   "name": "kotlin"
  },
  "language_info": {
   "name": "kotlin",
   "version": "1.8.20",
   "mimetype": "text/x-kotlin",
   "file_extension": ".kt",
   "pygments_lexer": "kotlin",
   "codemirror_mode": "text/x-kotlin",
   "nbconvert_exporter": ""
  },
  "ktnbPluginMetadata": {
   "isAddProjectLibrariesToClasspath": false
  }
 },
 "nbformat": 4,
 "nbformat_minor": 0
}
