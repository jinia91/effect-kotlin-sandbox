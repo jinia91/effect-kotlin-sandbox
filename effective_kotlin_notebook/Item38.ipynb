{
 "cells": [
  {
   "cell_type": "markdown",
   "source": [
    "# Item 38. 연산 또는 액션을 전달할 때는 인터페이스 대신 함수 타입을 사용해라\n",
    "\n",
    "## 메서드가 하나만 있는 인터페이스, 함수형 인터페이스, SAM\n",
    "\n",
    "- 자바와 같은 저수준 언어는 함수 타입이 존재하지 않음\n",
    "- 대신 메서드 하나만 있는 인터페이스를 사용하여 함수를 전달\n",
    "- @FunctionalInterface 어노테이션을 사용하여 함수형 인터페이스임을 명시\n",
    "- SAM(Single Abstract Method) 인터페이스라고도 함\n",
    "\n",
    "``` java\n",
    "@FunctionalInterface\n",
    "interface FuncInterface {\n",
    "    void abstractFun(int x);\n",
    "}\n",
    "\n",
    "class Test {\n",
    "    \n",
    "    public void test(FuncInterface fob) {\n",
    "        fob.abstractFun(5);\n",
    "    }\n",
    "    public static void main(String[] args) {\n",
    "        // 익명 클래스로 구현하기\n",
    "        Test t = new Test();\n",
    "        t.test(new FuncInterface() {\n",
    "            @Override\n",
    "            public void abstractFun(int x) {\n",
    "                System.out.println(\"Value of x: \" + x);\n",
    "            }\n",
    "        });\n",
    "        \n",
    "        // 람다식으로 구현하기\n",
    "        t.test((int x) -> System.out.println(\"Value of x: \" + x));\n",
    "        \n",
    "        // 메서드 참조로 구현하기\n",
    "        t.test(System.out::println);\n",
    "        \n",
    "    }\n",
    "}\n",
    "```\n",
    "\n",
    "- 만약 특정 메서드의 파라미터가 함수형 인터페이스를 타입으로 받는다면, 이러한 인터페이스를 구현한 객체를 전달받는다는 의미\n",
    "- java 8 이후론 람다식을 사용하여 함수형 인터페이스를 구현할 수 있음\n"
   ],
   "metadata": {
    "collapsed": false
   }
  },
  {
   "cell_type": "code",
   "outputs": [
    {
     "name": "stdout",
     "output_type": "stream",
     "text": [
      "Hello!\n",
      "Hello!\n"
     ]
    }
   ],
   "source": [
    "fun interface Runnable {\n",
    "    fun run()\n",
    "}\n",
    "\n",
    "fun runTwice(r: Runnable) {\n",
    "    r.run()\n",
    "    r.run()\n",
    "}\n",
    "// 1. sam 인터페이스를 구현한 객체를 전달\n",
    "runTwice(object : Runnable {\n",
    "    override fun run() {\n",
    "        println(\"Hello!\")\n",
    "    }\n",
    "})\n",
    "\n",
    "// 2. 람다식을 사용하여 함수형 인터페이스를 구현\n",
    "runTwice {  -> println(\"Hello!\") }\n",
    "\n"
   ],
   "metadata": {
    "collapsed": false,
    "ExecuteTime": {
     "end_time": "2024-04-09T12:42:44.814071Z",
     "start_time": "2024-04-09T12:42:44.666098Z"
    }
   },
   "execution_count": 1
  },
  {
   "cell_type": "markdown",
   "source": [
    "## 코틀린 함수 타입\n",
    "- 코틀린은 함수 타입으로 파라미터를 정의하고, 람다로 정의할 수 있음"
   ],
   "metadata": {
    "collapsed": false
   }
  },
  {
   "cell_type": "code",
   "outputs": [
    {
     "name": "stdout",
     "output_type": "stream",
     "text": [
      "Hello!\n",
      "Hello!\n"
     ]
    }
   ],
   "source": [
    "// 함수타입으로 정의\n",
    "fun runTwiceWithFuncType(r: () -> Unit) {\n",
    "    r()\n",
    "    r()\n",
    "}\n",
    "\n",
    "runTwiceWithFuncType { println(\"Hello!\") }"
   ],
   "metadata": {
    "collapsed": false,
    "ExecuteTime": {
     "end_time": "2024-04-09T12:44:30.651566Z",
     "start_time": "2024-04-09T12:44:30.577891Z"
    }
   },
   "execution_count": 2
  },
  {
   "cell_type": "markdown",
   "source": [
    "## 함수형 인터페이스로 정의하기 vs 함수 타입으로 정의 분석\n"
   ],
   "metadata": {
    "collapsed": false
   }
  },
  {
   "cell_type": "code",
   "outputs": [],
   "source": [
    "\n",
    "fun interface Test {\n",
    "    fun test()\n",
    "}\n",
    "\n",
    "fun testWrapper(test: Test) {\n",
    "    test.test()\n",
    "}\n",
    "\n",
    "fun testTypeWrapper(test: () -> Unit) {\n",
    "    test()\n",
    "}\n",
    "\n",
    "fun main() {\n",
    "\n",
    "    // 함수형 인터페이스시 익명 객체를 생성하여 전달 가능\n",
    "    testWrapper(object : Test {\n",
    "        override fun test() {\n",
    "            println(\"test\")\n",
    "        }\n",
    "    })\n",
    "\n",
    "    // 함수형 인터페이스시 익명 객체를 다른타입으로 정의 불가능\n",
    "//    testWrapper { object : () -> Unit  {\n",
    "//        override fun test() {\n",
    "//            println(\"test\")\n",
    "//        }\n",
    "//    }\n",
    "//\n",
    "\n",
    "    // 함수형 인터페이스시 SAM Conversion 으로 보다 간결하게 문법사용\n",
    "    testWrapper{ Test { println(\"test\") }}\n",
    "\n",
    "    // 함수형 인터페이스시 람다로 전달 가능\n",
    "    testWrapper { println(\"test\") }\n",
    "\n",
    "    // 함수 타입시 익명 객체를 생성하여 전달 가능\n",
    "    testTypeWrapper { object : () -> Unit {\n",
    "        override fun invoke() {\n",
    "            println(\"test\")\n",
    "        }\n",
    "    } }\n",
    "\n",
    "    // 함수 타입시 익명 객체를 다른타입으로 정의 가능 - 타입 인풋 아웃풋만 같으면 가능하다\n",
    "    testTypeWrapper { object : Test {\n",
    "        override fun test() {\n",
    "            println(\"test\")\n",
    "        }\n",
    "    } }\n",
    "    \n",
    "    // 함수 타입시 SAM Conversion 으로 함수형 인터페이스 SAM을 넘기기 가능\n",
    "    testTypeWrapper { Test { println(\"test\") } }\n",
    "\n",
    "    // 함수 타입시 람다로 전달 가능\n",
    "    testTypeWrapper { println(\"test\") }\n",
    "}\n"
   ],
   "metadata": {
    "collapsed": false
   }
  },
  {
   "cell_type": "markdown",
   "source": [
    "## 정리\n",
    "- 위의 분석을 통해 보면 함수형 인터페이스의 장점은 SAM 변환시 조금더 강타입선언이 가능하다는 점이다.\n",
    "- 하지만 결국 람다로 전달이 가능하므로 가장 간결하게 작성시엔 동일한 타입 검증 수준뿐이 하질 못한다.\n",
    "- 네이밍을 지을수 있다는 장점이 존재하지만, 그만큼 코드작성이 필요하고 함수 타입역시 typealias로 선언하여 사용할 수 있다.\n",
    "\n",
    "## 뭐가 더 나은가?\n",
    "- 책에서는 함수 타입이 더 낫다고 말은 하지만, 현재 코틀린 버전에서는 함수형 인터페이스를 사용해도 모든문법들이 거의 동일하게 가능하다.\n",
    "- 코드 유지보수 측면에서 타입앨리어스보다는 객체지향에 조금더 어울리는 함수형 인터페이스가 더 나은 선택아닐까?"
   ],
   "metadata": {
    "collapsed": false
   }
  },
  {
   "cell_type": "markdown",
   "source": [],
   "metadata": {
    "collapsed": false
   }
  },
  {
   "cell_type": "markdown",
   "source": [],
   "metadata": {
    "collapsed": false
   }
  },
  {
   "cell_type": "markdown",
   "source": [],
   "metadata": {
    "collapsed": false
   }
  },
  {
   "cell_type": "code",
   "outputs": [],
   "source": [],
   "metadata": {
    "collapsed": false
   }
  },
  {
   "cell_type": "markdown",
   "source": [],
   "metadata": {
    "collapsed": false
   }
  }
 ],
 "metadata": {
  "kernelspec": {
   "display_name": "Kotlin",
   "language": "kotlin",
   "name": "kotlin"
  },
  "language_info": {
   "name": "kotlin",
   "version": "1.8.20",
   "mimetype": "text/x-kotlin",
   "file_extension": ".kt",
   "pygments_lexer": "kotlin",
   "codemirror_mode": "text/x-kotlin",
   "nbconvert_exporter": ""
  },
  "ktnbPluginMetadata": {
   "projectLibraries": []
  }
 },
 "nbformat": 4,
 "nbformat_minor": 0
}
