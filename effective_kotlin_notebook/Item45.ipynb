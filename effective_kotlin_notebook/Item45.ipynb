{
 "cells": [
  {
   "cell_type": "markdown",
   "source": [
    "# Item 45. 불필요한 객체 생성을 피하라\n",
    "\n",
    "## java jvm의 객체 재사용, 캐시\n",
    "\n",
    "1. 문자열\n",
    "- jvm에서는 하나의 가상 머신에서 같은 문자열 리터럴을 여러 차례 사용해도 실제로는 하나의 String 객체로 생성한다.\n",
    "2. Integer, Long 박스형 캐싱\n",
    "- -128 ~ 127까지의 Integer, Long 객체는 미리 생성해 놓고 재사용한다."
   ],
   "metadata": {
    "collapsed": false
   }
  },
  {
   "cell_type": "code",
   "outputs": [
    {
     "name": "stdout",
     "output_type": "stream",
     "text": [
      "true\n",
      "false\n"
     ]
    }
   ],
   "source": [
    "val i1 : Int? = 125\n",
    "val i2 : Int? = 125\n",
    "println(i1 === i2)\n",
    "\n",
    "val i3 : Int? = 128\n",
    "val i4 : Int? = 128\n",
    "println(i3 === i4)"
   ],
   "metadata": {
    "collapsed": false,
    "ExecuteTime": {
     "end_time": "2024-04-13T12:49:58.465642Z",
     "start_time": "2024-04-13T12:49:58.313225Z"
    }
   },
   "execution_count": 2
  },
  {
   "cell_type": "markdown",
   "source": [
    "## 래핑시 객체 비용은 얼마나 들까?\n",
    "\n",
    "1. 현대 64비트 jdk에서 객체는 8바이트의 배수만큼 공간을 차지한다.\n",
    "- 객체의 헤더는 12바이트이며, 8바이트의 배수만큼이 한단위이므로 4바이트 패딩을 가진 16바이트를 차지한다.\n",
    "- 레퍼런스가 하나있을때마다 4바이트가 필요하다.\n",
    "e.g) int는 기본적으로 4바이트를 차지한다.(32bit, -2^31~2^31)\n",
    "e.g) Integer/Int?는 기본패딩 12바이트에 레퍼런스 4바이트가 추가되어 16바이트를 차지한다. \n",
    "e.g) 실제 Int? 를 사용할경우 객체 생성 이외에도 참조를 한번 해야하므로 4바이트가  필요하고 패딩으로 4바이트를 쓰므로 총 8바이트가 추가되어 24바이트를 쓰는셈이다. 메모리공간을 6배 차지하는 셈(조각을 포함한것이며 패딩을 제외하면 5배정도 차지한다.)\n",
    "\n",
    "2. 객체 호출비용\n",
    "3. 객체 생성시 시간비용\n",
    " - 작지만 수억개 생성을 가정하면 무시할수 없는 숫자다\n",
    "\n",
    "## 객체 재사용하는 방법\n",
    "\n",
    "### 1. 캐싱 객체 사용하기\n",
    "\n",
    "- EMPTY_LIST, EMPTY_MAP, EMPTY_SET 과 같이 필요는 하되 변경이 불가능한 객체는 미리 만들어 캐싱해두고 재사용해볼 수 있다\n",
    "- 도메인 모델 역시 위와같은 특별 케이스는 캐싱해두고 재사용해볼수 있음\n",
    "- 캐싱시 사용하는 메모리 자체가 부담될 수 있으므로 적절한 캐싱전략, 캐싱시 WeakReference나 SoftReference를 사용하는것도 고려해볼만함\n",
    "- WeakReference: 가비지컬렉터가 동작할때만 참조를 해제하는 참조\n",
    "- SoftReference: 메모리가 부족할때 참조를 해제하고 GC에 제거되는 참조\n",
    "\n",
    "### 2. 무거운 객체를 외부 스코프로 보내기\n",
    "- 당연한 이야기로 for문안에서 객체를 생성하는것은 비효율적이다.\n",
    "- forEach, count, map, filter 등의 함수 내에서 객체를 생성하는것도 비효율적이다.\n",
    "- 정규식도 매번 객체 생성하는게 아니라 톱레벨로 정규표현식을 한번만  생성하는게 더 바람직하다\n",
    "\n",
    "### 3. 지연 초기화\n",
    "```\n",
    "    companion object {\n",
    "        private val PASSWORD_REGEX by lazy { Regex(\"^(?=.*[a-z])(?=.*[A-Z])(?=.*\\\\d)(?=.*[^\\\\da-zA-Z]).{8,16}\\$\") }\n",
    "    }\n",
    "```\n",
    "- 코틀린은 손쉽게 지연 초기화를 할 수 있도록 지원한다.\n",
    "- 다만 지연초기화시엔 속도가 느려질 수 있으므로 적절한 상황에서 사용해야한다.\n",
    "- lazy는 기본 스레드 세이프하게 Syncronize로 동작한다\n",
    "  - 다른모드로 사용하고 싶다면 lazy(LazyThreadSafetyMode.NONE)을 사용하면된다.\n",
    "\n",
    "### 4. 기본 자료형 사용하기\n",
    "\n",
    "- 코틀린은 모든 자료형 primitive타입을 래핑하지만 코틀린 컴파일러가 자바 바이트코드로 바꿀때, 자바의 primitive타입으로 변경해준다.\n",
    "- 다만 언박싱은 코틀린 컴파일러의 판단에 따라 알아서 판단하므로 안되는상황도 많다\n",
    "\n",
    "간단한 비교\n",
    "|코틀린 자료형|자바의 자료형|\n",
    "|---|---|\n",
    "|Int|int|\n",
    "|Int?|Integer|\n",
    "|List<Int>|List<Integer>|\n",
    "\n",
    "- 정말 성능에 민감하다면 배열을 쓰는게 맞고 이때는 IntArray, LongArray등을 사용하면된다.\n",
    "\n"
   ],
   "metadata": {
    "collapsed": false
   }
  },
  {
   "cell_type": "code",
   "outputs": [],
   "source": [
    "// max ?: 때문에 Integer로 박싱되어있음\n",
    "fun Iterable<Int>.maxOrNull() : Int? {\n",
    "    var max : Int? = null\n",
    "    for (i in this) {\n",
    "        max = if(i > max ?: Int.MIN_VALUE) i else max\n",
    "    }\n",
    "    return max\n",
    "}\n",
    "\n",
    "// 박싱될 필요가 없으므로 코틀린 컴파일러가 전부 언박싱하여 int로 다룸\n",
    "fun Iterable<Int>.maxOrNull2() : Int? {\n",
    "    val iterator = this.iterator()\n",
    "    if (!iterator.hasNext()) return null\n",
    "    var max = iterator.next()\n",
    "    while (iterator.hasNext()) {\n",
    "        val e = iterator.next()\n",
    "        if (e > max) max = e\n",
    "    }\n",
    "    return max\n",
    "}"
   ],
   "metadata": {
    "collapsed": false
   }
  }
 ],
 "metadata": {
  "kernelspec": {
   "display_name": "Kotlin",
   "language": "kotlin",
   "name": "kotlin"
  },
  "language_info": {
   "name": "kotlin",
   "version": "1.8.20",
   "mimetype": "text/x-kotlin",
   "file_extension": ".kt",
   "pygments_lexer": "kotlin",
   "codemirror_mode": "text/x-kotlin",
   "nbconvert_exporter": ""
  },
  "ktnbPluginMetadata": {
   "projectLibraries": []
  }
 },
 "nbformat": 4,
 "nbformat_minor": 0
}
