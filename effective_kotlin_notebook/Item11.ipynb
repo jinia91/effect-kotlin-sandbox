{
 "cells": [
  {
   "cell_type": "markdown",
   "source": [
    "# Item 11. 가독성을 목표로 설계하라"
   ],
   "metadata": {
    "collapsed": false
   }
  },
  {
   "cell_type": "markdown",
   "source": [
    "## 인지 부하를 줄여라\n",
    "\n",
    "- 창의적인 코드, 단순 간결한 코드보다는 **읽기좋은** 코드를 작성하는것이 Best practice!\n"
   ],
   "metadata": {
    "collapsed": false
   }
  },
  {
   "cell_type": "code",
   "execution_count": null,
   "outputs": [],
   "source": [
    "val person : String? = \"man\"\n",
    "\n",
    "// 1번\n",
    "if(person != null && person == \"man\"){\n",
    "    // 무언가\n",
    "} else{\n",
    "    // 무언가\n",
    "}\n",
    "\n",
    "\n",
    "// 2번\n",
    "//person?.takeIf {it == \"man\"}\n",
    "//?.let{}\n",
    "//?: run {}\n"
   ],
   "metadata": {
    "collapsed": false
   }
  },
  {
   "cell_type": "markdown",
   "source": [
    "전자는 흔한 if else문이며 후자는 스코프함수와 takeIf, ? 연산자와 ?: 엘비스 연산자를 사용한 코드다.\n",
    "\n",
    "- 협업과 유지보수를 고려할때 잘 읽히는 코드는 전자!\n",
    "- 함수형은 실수를 줄일수 있는 좋은 패러다임이지만, 협업, 유지보수 관점에서 정말 짧고 간결하게 작성되는상황이 아니라면 함수형을 고수할필요는 없다.\n"
   ],
   "metadata": {
    "collapsed": false
   }
  },
  {
   "cell_type": "markdown",
   "source": [
    "## 무엇이 읽기 좋은 코드일까?\n",
    "\n",
    "- 핵심은 간결성도, 창의성도, 심미성도 아니다. 가독성\n",
    "- 가독성이좋은 코드는? 가독성이 좋은 글과 같다.\n",
    "- 가독성이 좋은 글은 모호함이 없으며,이해를 위한 추론이 필요없는 글\n",
    "\n",
    "### <참고> 좋은 글이란?\n",
    "\n",
    "- 두괄식 : 독자가 독해력을 발휘해 글의 의도를 파악하게 하기보단 대놓고 의도를 말하면 이해하기 더 쉽다\n",
    "- 한 문단에는 한가지 생각만 담기\n",
    "- 접속사를 적극적으로 사용해서 논리 흐름제어\n",
    "- 글 구조상 하위 내용이 있다면 1,2,3 과같은 라벨링으로 정리\n",
    "- 대명사 사용을 최소화, 동어반복이 있더라도 명사를 명시적으로 말하는것이 인지 부하를 줄임\n",
    "- 수식어와 피수식어는 가까워야한다\n",
    "\n",
    "        (1) 긴 문장보다는 짧은 문장이 '항상' 낫다.\n",
    "        (2) 긴 문장보다는 '항상' 짧은 문장이 낫다.\n",
    "        (3) '항상' 긴 문장보다는 짧은 문장이 낫다.\n",
    "        - 항상은 낫다를 꾸미는 말이며, 위의 세 예시중 (1)이 제일 가독성이 좋음\n",
    "- 위를 지키려고 퇴고하기\n",
    "\n",
    "### 그럼 좋은 코드를 작성하기 위해서는?\n",
    "\n",
    "- 의도를 드러내는 메소드명, 클래스명\n",
    "- 메소드는 하나의 동작만 하기\n",
    "- 논리 흐름을 제어할수 있는 함수형, dsl 스타일, 스코프 함수 사용하기\n",
    "- 병렬적인 논리구조가 있을때 주석으로 정리를하던지, 혹은 유사한 네이밍이나 메서드로 분리, 코드블록을 사용하는방식으로 덩어리감있게 작성\n",
    "- 스코프안에서 it, this보단 명시적으로 변수명을 지어주던가, 혹은 가르키도록\n",
    "- 변수로 선언한경우 해당 변수를 사용하는 로직이 가깝도록 작성\n",
    "- 코드 셀프리뷰하자!\n"
   ],
   "metadata": {
    "collapsed": false
   }
  }
 ],
 "metadata": {
  "kernelspec": {
   "display_name": "Kotlin",
   "language": "kotlin",
   "name": "kotlin"
  },
  "language_info": {
   "name": "kotlin",
   "version": "1.8.20",
   "mimetype": "text/x-kotlin",
   "file_extension": ".kt",
   "pygments_lexer": "kotlin",
   "codemirror_mode": "text/x-kotlin",
   "nbconvert_exporter": ""
  },
  "ktnbPluginMetadata": {
   "isAddProjectLibrariesToClasspath": false
  }
 },
 "nbformat": 4,
 "nbformat_minor": 0
}
