{
 "cells": [
  {
   "cell_type": "markdown",
   "source": [
    "# Item 12. 연산자 오버로드를 할 때는 의미에 맞게 사용하라"
   ],
   "metadata": {
    "collapsed": false
   }
  },
  {
   "cell_type": "markdown",
   "source": [
    "- 도메인 특화언어DSL을 설계하는게 아닌이상은 연산자 오버로딩을 오용하지 말자\n",
    "- 실무적으로 쓸일이 많지는 않을듯?\n",
    "- 차라리 연산자 같은 늬앙스로 새로운 함수를 정의할거라면 infix 함수를 사용하자"
   ],
   "metadata": {
    "collapsed": false
   }
  }
 ],
 "metadata": {
  "kernelspec": {
   "display_name": "Kotlin",
   "language": "kotlin",
   "name": "kotlin"
  },
  "language_info": {
   "name": "kotlin",
   "version": "1.8.20",
   "mimetype": "text/x-kotlin",
   "file_extension": ".kt",
   "pygments_lexer": "kotlin",
   "codemirror_mode": "text/x-kotlin",
   "nbconvert_exporter": ""
  },
  "ktnbPluginMetadata": {
   "isAddProjectLibrariesToClasspath": false
  }
 },
 "nbformat": 4,
 "nbformat_minor": 0
}
