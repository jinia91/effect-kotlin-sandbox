{
 "cells": [
  {
   "cell_type": "markdown",
   "source": [
    "# Item 23. 타입 파라미터 섀도잉을 피해라\n"
   ],
   "metadata": {
    "collapsed": false
   }
  },
  {
   "cell_type": "code",
   "execution_count": 2,
   "outputs": [
    {
     "name": "stdout",
     "output_type": "stream",
     "text": [
      "1\n"
     ]
    }
   ],
   "source": [
    "class Parent<T : Number> {\n",
    "    fun <T : Int> foo(a: T) {\n",
    "        println(a)\n",
    "    }\n",
    "}\n",
    "\n",
    "val a = Parent<Double>()\n",
    "\n",
    "a.foo(1)"
   ],
   "metadata": {
    "collapsed": false,
    "ExecuteTime": {
     "end_time": "2023-09-03T10:23:54.191474Z",
     "start_time": "2023-09-03T10:23:54.122120Z"
    }
   }
  },
  {
   "cell_type": "markdown",
   "source": [
    "위처럼 클래스 선언시 타입 파라미터를 지정하더라도 함수에 타입 파라미터를 섀도잉해버리면 아무 의미가 없어진다.\n",
    "\n",
    "보통은 foo 함수의 인자로 제네릭으로 정의한 타입 파라미터가 들어오길 기대할테니 독립적인 타입 파라미터라면 별도로 정의를 하던지, 아니면 하나만 사용하는것이 바람직할것이다."
   ],
   "metadata": {
    "collapsed": false
   }
  }
 ],
 "metadata": {
  "kernelspec": {
   "display_name": "Kotlin",
   "language": "kotlin",
   "name": "kotlin"
  },
  "language_info": {
   "name": "kotlin",
   "version": "1.8.20",
   "mimetype": "text/x-kotlin",
   "file_extension": ".kt",
   "pygments_lexer": "kotlin",
   "codemirror_mode": "text/x-kotlin",
   "nbconvert_exporter": ""
  },
  "ktnbPluginMetadata": {
   "isAddProjectLibrariesToClasspath": false
  }
 },
 "nbformat": 4,
 "nbformat_minor": 0
}
