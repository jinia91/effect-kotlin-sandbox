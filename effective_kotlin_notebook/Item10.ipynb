{
 "cells": [
  {
   "cell_type": "markdown",
   "source": [
    "# Item 10. 단위 테스트를 만들어라"
   ],
   "metadata": {
    "collapsed": false
   }
  },
  {
   "cell_type": "markdown",
   "source": [
    "## 코드를 가장 안전하게 만드는 방법은 테스트 코드\n",
    "\n",
    "- 사용자 관점에서 외부적으로 제대로 작동하는지 확인하는 것이 목표\n",
    "- 단위테스트를 작성하자!\n",
    "\n",
    "## 단위테스트시 확인해야할 것\n",
    "\n",
    "- 일반적인 유즈케이스 체크(happy path check)\n",
    "- 일반적인 오류케이스와 잠재적인 문제\n",
    "  - 제대로 동작하지 않을거라고 예상되는 일반적인 부분\n",
    "  - 과거에 무제가 발생했던부분! - 만약 버그를 수정했으면 해당 부분을 테스트코드로 추가하는게 바람직하다\n",
    "- 에지케이스와 잘못된 아규먼트\n",
    "\n",
    "## 단위테스트를 작성해야하는, 납득시킬 이유?\n",
    "\n",
    "- 신뢰감\n",
    "- 리팩토링의 자유로움, 안정감\n",
    "- 빠른 속도의 피드백 루프로 개발 전체적인 속도가 빨라질수있음\n",
    "- 버그 수정 비용 감소\n",
    "\n",
    "## 단점\n",
    "\n",
    "- 단위테스트 만드는데 걸리는 시간\n",
    "- 테스트를 위한 좋은 아키텍처가 필요 - 단점은 아닌가?\n",
    "- 올바른 단위테스트 작성법을 알아야하므로 러닝커브"
   ],
   "metadata": {
    "collapsed": false
   }
  }
 ],
 "metadata": {
  "kernelspec": {
   "display_name": "Kotlin",
   "language": "kotlin",
   "name": "kotlin"
  },
  "language_info": {
   "name": "kotlin",
   "version": "1.8.0",
   "mimetype": "text/x-kotlin",
   "file_extension": ".kt",
   "pygments_lexer": "kotlin",
   "codemirror_mode": "text/x-kotlin",
   "nbconvert_exporter": ""
  }
 },
 "nbformat": 4,
 "nbformat_minor": 0
}
