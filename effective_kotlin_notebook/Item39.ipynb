{
 "cells": [
  {
   "cell_type": "markdown",
   "source": [
    "# Item 39. 태그 클래스보다는 클래스 계층을 사용하라\n",
    "\n",
    "- Enum을 사용해 클래스의 상태를 정의하는 방식을 태그 클래스라 표현\n",
    "- 태그 클래스는 여러 상태에 대해 하나의 클래스에서 제어해야하기 때문에 책임 분리 측면에서 좋지 않음\n"
   ],
   "metadata": {
    "collapsed": false
   }
  },
  {
   "cell_type": "code",
   "outputs": [
    {
     "name": "stderr",
     "output_type": "stream",
     "text": [
      "Line_2.jupyter.kts (3:33 - 36) No type arguments expected for enum class Matcher\n",
      "Line_2.jupyter.kts (13:13 - 27) Comparison of incompatible enums '[Error type: Type for error type constructor (Matcher)]<T>' and 'Line_2_jupyter.ValueMatcher.Matcher' is always unsuccessful\n",
      "Line_2.jupyter.kts (14:13 - 29) Comparison of incompatible enums '[Error type: Type for error type constructor (Matcher)]<T>' and 'Line_2_jupyter.ValueMatcher.Matcher' is always unsuccessful\n",
      "Line_2.jupyter.kts (15:13 - 32) Comparison of incompatible enums '[Error type: Type for error type constructor (Matcher)]<T>' and 'Line_2_jupyter.ValueMatcher.Matcher' is always unsuccessful"
     ]
    }
   ],
   "source": [
    "class ValueMatcher<T> private constructor(\n",
    "    private val value: T,\n",
    "    private val matcher: Matcher\n",
    ") {\n",
    "    enum class Matcher {\n",
    "        EQUALS,\n",
    "        CONTAINS,\n",
    "        STARTS_WITH,\n",
    "        LIST_EMPTY\n",
    "    }\n",
    "    \n",
    "    fun matches(other: T): Boolean {\n",
    "        return when (matcher) {\n",
    "            Matcher.EQUALS -> value == other\n",
    "            Matcher.CONTAINS -> other.toString().contains(value.toString())\n",
    "            Matcher.STARTS_WITH -> other.toString().startsWith(value.toString())\n",
    "            Matcher.LIST_EMPTY -> (other as List<*>).isEmpty()\n",
    "        }\n",
    "    }\n",
    "    \n",
    "    companion object {\n",
    "        fun <T> equals(value: T) = ValueMatcher(value, Matcher.EQUALS)\n",
    "        fun <T> contains(value: T) = ValueMatcher(value, Matcher.CONTAINS)\n",
    "        fun <T> startsWith(value: T) = ValueMatcher(value, Matcher.STARTS_WITH)\n",
    "        fun <T> listEmpty() = ValueMatcher(null, Matcher.LIST_EMPTY)\n",
    "    }\n",
    "}\n"
   ],
   "metadata": {
    "collapsed": false,
    "ExecuteTime": {
     "end_time": "2024-04-10T03:13:38.374076Z",
     "start_time": "2024-04-10T03:13:38.147384Z"
    }
   },
   "execution_count": 2
  },
  {
   "cell_type": "markdown",
   "source": [
    "- 위처럼 ValueMatcher 클래스가 모든 상태에 대해 알고 핸들링해야한다.\n",
    "- 여러 목적을 가지고 요소를 여러방법으로 설정할 수 있는경우에는 상태의 일관성과 정확성을 지기키 어렵다\n",
    "- 물론 설계를 위처럼 하지 않고 더 나은 설계로 매쳐를 enum 클래스를 싱글턴 디자인 패턴처럼 사용해서 사용할 수 도 있음\n",
    "- 하지만 코틀린에서는 보다 나은 sealed class를 사용할 수 있다!\n",
    "\n",
    "## sealed class\n",
    "\n",
    "- 태그 클래스보다 sealed class를 사용하면 상태를 나타내는 클래스 계층을 손쉽게 만들 수 있다.\n",
    "\n"
   ],
   "metadata": {
    "collapsed": false
   }
  },
  {
   "cell_type": "code",
   "outputs": [],
   "source": [
    "sealed class Matcher<T> {\n",
    "    abstract fun matches(value: T): Boolean\n",
    "    \n",
    "    class Equals<T>(private val value: T) : Matcher<T>() {\n",
    "        override fun matches(other: T) = value == other\n",
    "    }\n",
    "    \n",
    "    class Contains<T>(private val value: T) : Matcher<T>() {\n",
    "        override fun matches(other: T) = other.toString().contains(value.toString())\n",
    "    }\n",
    "    \n",
    "    class StartsWith<T>(private val value: T) : Matcher<T>() {\n",
    "        override fun matches(other: T) = other.toString().startsWith(value.toString())\n",
    "    }\n",
    "    \n",
    "    class ListEmpty<T> : Matcher<List<*>>() {\n",
    "        override fun matches(other: List<*>) = other.isEmpty()\n",
    "    }\n",
    "}\n",
    "\n"
   ],
   "metadata": {
    "collapsed": false
   }
  },
  {
   "cell_type": "markdown",
   "source": [
    "## sealed class 장점\n",
    "\n",
    "- 반드시 같은 파일 내에서만 상속을 허용하므로, 상태를 제한해야하는 상황에서 더 유용하다. 반대로 확장에 닫혀있는편\n",
    "- 컴파일 레벨에서 모든 분기를 확인하게되므로 모든 상태를 다루는지 확인할 수 있다.(when 절 사용시 매우 편리)\n",
    "- 자연스럽게 태그클래스방식대신 상태 패턴으로 설계를 유도하여 보다 나은 구조가 된다 "
   ],
   "metadata": {
    "collapsed": false
   }
  },
  {
   "cell_type": "code",
   "outputs": [
    {
     "name": "stdout",
     "output_type": "stream",
     "text": [
      "Hello!\n",
      "Hello!\n"
     ]
    }
   ],
   "source": [],
   "metadata": {
    "collapsed": false,
    "ExecuteTime": {
     "end_time": "2024-04-09T12:44:30.651566Z",
     "start_time": "2024-04-09T12:44:30.577891Z"
    }
   },
   "execution_count": 2
  },
  {
   "cell_type": "markdown",
   "source": [],
   "metadata": {
    "collapsed": false
   }
  },
  {
   "cell_type": "code",
   "outputs": [],
   "source": [],
   "metadata": {
    "collapsed": false
   }
  },
  {
   "cell_type": "markdown",
   "source": [],
   "metadata": {
    "collapsed": false
   }
  },
  {
   "cell_type": "markdown",
   "source": [],
   "metadata": {
    "collapsed": false
   }
  },
  {
   "cell_type": "markdown",
   "source": [],
   "metadata": {
    "collapsed": false
   }
  },
  {
   "cell_type": "markdown",
   "source": [],
   "metadata": {
    "collapsed": false
   }
  },
  {
   "cell_type": "code",
   "outputs": [],
   "source": [],
   "metadata": {
    "collapsed": false
   }
  },
  {
   "cell_type": "markdown",
   "source": [],
   "metadata": {
    "collapsed": false
   }
  }
 ],
 "metadata": {
  "kernelspec": {
   "display_name": "Kotlin",
   "language": "kotlin",
   "name": "kotlin"
  },
  "language_info": {
   "name": "kotlin",
   "version": "1.8.20",
   "mimetype": "text/x-kotlin",
   "file_extension": ".kt",
   "pygments_lexer": "kotlin",
   "codemirror_mode": "text/x-kotlin",
   "nbconvert_exporter": ""
  },
  "ktnbPluginMetadata": {
   "projectLibraries": []
  }
 },
 "nbformat": 4,
 "nbformat_minor": 0
}
