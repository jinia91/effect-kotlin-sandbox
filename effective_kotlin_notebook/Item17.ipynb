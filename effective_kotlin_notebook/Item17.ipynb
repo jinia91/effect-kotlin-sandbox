{
 "cells": [
  {
   "cell_type": "markdown",
   "source": [
    "# Item17. 네임드 아규먼트를 사용해라"
   ],
   "metadata": {
    "collapsed": false
   }
  },
  {
   "cell_type": "markdown",
   "source": [
    "## 네임드 아규먼트는 항상 옳다\n",
    "\n",
    "- 파라미터 순서를 반드시 지킬필요가 없으므로, 원 클래스의 파라미터 순서 변경에 자유로워진다.\n",
    "- 코딩하는 입장에서 파라미터 순서를 신경쓸필요없어 더욱 편하고 명료하다.\n",
    "- 코드를 읽는 입장, 특히 코드리뷰하는입장에서 원 클래스 생성자를 안봐도 되므로 편하다\n",
    "\n",
    "안쓸이유가 없다! 단지 코드량이 조금 많아질뿐"
   ],
   "metadata": {
    "collapsed": false
   }
  },
  {
   "cell_type": "markdown",
   "source": [],
   "metadata": {
    "collapsed": false
   }
  }
 ],
 "metadata": {
  "kernelspec": {
   "display_name": "Kotlin",
   "language": "kotlin",
   "name": "kotlin"
  },
  "language_info": {
   "name": "kotlin",
   "version": "1.8.20",
   "mimetype": "text/x-kotlin",
   "file_extension": ".kt",
   "pygments_lexer": "kotlin",
   "codemirror_mode": "text/x-kotlin",
   "nbconvert_exporter": ""
  },
  "ktnbPluginMetadata": {
   "isAddProjectLibrariesToClasspath": false
  }
 },
 "nbformat": 4,
 "nbformat_minor": 0
}
