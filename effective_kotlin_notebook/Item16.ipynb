{
 "cells": [
  {
   "cell_type": "markdown",
   "source": [
    "# Item16. 프로퍼티는 동작이 아니라 상태를 나타내야 한다"
   ],
   "metadata": {
    "collapsed": false
   }
  },
  {
   "cell_type": "markdown",
   "source": [
    "## 프로퍼티? 필드?\n",
    "\n",
    "### 필드\n",
    "\n",
    "- 클래스나 구조체에서 데이터를 저장하는 공간\n",
    "- 객체의 상태를 나타내는 데이터를 저장할때 사용\n",
    "\n",
    "### 프로퍼티\n",
    "\n",
    "- 데이터를 접근하는 방식을 캡슐화하고 컨트롤하는 일종의 래퍼\n",
    "\n",
    "코틀린은 기본적으로 클래스를 정의할때 멤버 프로퍼티로 정의된다.\n",
    "\n"
   ],
   "metadata": {
    "collapsed": false
   }
  },
  {
   "cell_type": "markdown",
   "source": [],
   "metadata": {
    "collapsed": false
   }
  },
  {
   "cell_type": "code",
   "execution_count": 4,
   "outputs": [
    {
     "name": "stdout",
     "output_type": "stream",
     "text": [
      "null\n",
      "KIM\n",
      "LEE\n"
     ]
    }
   ],
   "source": [
    "var name: String? = null\n",
    "    get() = field?.uppercase() // 백킹 필드 레퍼런스\n",
    "    set(value) {\n",
    "        if (value.isNullOrBlank().not()) field = value\n",
    "    }\n",
    "\n",
    "println(name)\n",
    "\n",
    "// first binding\n",
    "\n",
    "name = \"Kim\"\n",
    "\n",
    "println(name)\n",
    "\n",
    "// second\n",
    "\n",
    "name = \"Lee\"\n",
    "\n",
    "println(name)\n",
    "\n",
    "val fullName: String\n",
    "    get() = name + \"@@\"\n"
   ],
   "metadata": {
    "collapsed": false,
    "ExecuteTime": {
     "end_time": "2023-08-30T12:52:57.151616Z",
     "start_time": "2023-08-30T12:52:57.030624Z"
    }
   }
  },
  {
   "cell_type": "markdown",
   "source": [
    "코틀린은 프로퍼티로 정의되므로 기본 get, set이 제공되고 위처럼 커스텀 get set로직을 추가할수 있다.\n",
    "\n",
    "또한 기본 프로퍼티에 +@하여 파생프로퍼티도 만들수 있다.\n"
   ],
   "metadata": {
    "collapsed": false
   }
  },
  {
   "cell_type": "markdown",
   "source": [
    "## 인터페이스에도 프로퍼티 정의 가능\n",
    "\n",
    "프로퍼티는 개념적으로 필드를 포함하고 있지 않기때문에 인터페이스에 프로퍼티 정의가 가능하다.\n",
    "\n",
    "val : getter\n",
    "var : getter + setter\n",
    "\n",
    "\n"
   ],
   "metadata": {
    "collapsed": false
   }
  },
  {
   "cell_type": "markdown",
   "source": [
    "## 프로퍼티?(val, var) 함수?(fun)\n",
    "\n",
    "프로퍼티는 본질적으로 함수이므로 모든 클래스의 함수를 프로퍼티로도 표현가능하다.\n",
    "\n",
    "하지만 프로그래밍의 관습적인 규약으로 프로퍼티는 객체의 `단순한` 상태를 나타내거나 설정하기위한 목적으로 사용되어진다.\n",
    "\n",
    "따라서 복잡한 로직들을 프로퍼티로 표현하는것은 바람직하지 않다.\n",
    "\n",
    "### 이펙티브코틀린에서 말하는 프로퍼티와 함수 구분법\n",
    "\n",
    "프로퍼티는\n",
    "- 연산비용 혹은 시간복잡도가 O(1)\n",
    "- 비즈니스 로직이 없어야한다(간단)\n",
    "- 멱등성이 있어야한다\n",
    "- 변환함수는 to~() 컨벤션이 더 관습적이다\n",
    "- 게터에서 상태변경이 일어나면 안된다\n",
    "\n",
    "결국 아주 단순한 케이스만 정의하길 권장한다.\n",
    "\n"
   ],
   "metadata": {
    "collapsed": false
   }
  },
  {
   "cell_type": "markdown",
   "source": [
    "## 실무에서는(server side)\n",
    "\n",
    "코틀린을 처음 접하면 프로퍼티의 편리함과 캡슐화 관점에서 보다 좋은(이상적인) 코딩을 하고 있다는 생각에 프로퍼티를 너무 남용하는거같다.\n",
    "\n",
    "하지만 서버사이드의 경우 jpa와 함께사용할때 가독성과 가시성을 저해하는 케이스가 발생하는데"
   ],
   "metadata": {
    "collapsed": false
   }
  },
  {
   "cell_type": "code",
   "execution_count": null,
   "outputs": [],
   "source": [
    "// @Entity\n",
    "class EntitySample(\n",
    "val a: String, // column\n",
    "val b: String) { // column\n",
    "    val c: String = a + b\n",
    "}\n"
   ],
   "metadata": {
    "collapsed": false
   }
  },
  {
   "cell_type": "markdown",
   "source": [
    "위와같이 primary constructor를 사용하는경우는 그나마 생성자 아래라인부터는 컬럼이 아니라고 인지되어 좀 낫지만"
   ],
   "metadata": {
    "collapsed": false
   }
  },
  {
   "cell_type": "code",
   "execution_count": null,
   "outputs": [],
   "source": [
    "// @Entity\n",
    "class EntitySample2(\n",
    "val a: String // column\n",
    ") {\n",
    "    var b: String // column\n",
    "    var c: String = a + b\n",
    "}"
   ],
   "metadata": {
    "collapsed": false
   }
  },
  {
   "cell_type": "markdown",
   "source": [
    "위처럼 컬럼이 생성자 아래로 정의되는 스타일일때 어디까지가 컬럼이고 어디까지가 파생 프로퍼티인지 인지가 어려워지는 문제가 생긴다.\n",
    "\n",
    "특히 강한 캡슐화를 위해 코틀린 프로퍼티의 setter를 닫고 싶은 경우는 후자로 작성해야하는데 이때 컬럼이 아닌 프로퍼티와의 구분이 어려워\n",
    "\n",
    "차라리 함수로 정의하는게 더 낫다고 생각한다."
   ],
   "metadata": {
    "collapsed": false
   }
  }
 ],
 "metadata": {
  "kernelspec": {
   "display_name": "Kotlin",
   "language": "kotlin",
   "name": "kotlin"
  },
  "language_info": {
   "name": "kotlin",
   "version": "1.8.20",
   "mimetype": "text/x-kotlin",
   "file_extension": ".kt",
   "pygments_lexer": "kotlin",
   "codemirror_mode": "text/x-kotlin",
   "nbconvert_exporter": ""
  },
  "ktnbPluginMetadata": {
   "isAddProjectLibrariesToClasspath": false
  }
 },
 "nbformat": 4,
 "nbformat_minor": 0
}
